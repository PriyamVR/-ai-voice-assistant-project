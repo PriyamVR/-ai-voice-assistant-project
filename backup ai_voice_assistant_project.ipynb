{
  "cells": [
    {
      "cell_type": "code",
      "execution_count": 174,
      "metadata": {
        "colab": {
          "base_uri": "https://localhost:8080/"
        },
        "id": "3UbaoOuS3u6X",
        "outputId": "c977e9a2-da1c-4c9b-c45e-d7de4f0d0348"
      },
      "outputs": [
        {
          "output_type": "stream",
          "name": "stdout",
          "text": [
            "Requirement already satisfied: SpeechRecognition in /usr/local/lib/python3.11/dist-packages (3.14.1)\n",
            "Requirement already satisfied: typing-extensions in /usr/local/lib/python3.11/dist-packages (from SpeechRecognition) (4.12.2)\n"
          ]
        }
      ],
      "source": [
        "!pip install SpeechRecognition # ✅ SpeechRecognition লাইব্রেরি ইনস্টল করা হচ্ছে, যা অডিও থেকে টেক্সট রূপান্তরের জন্য ব্যবহৃত হয়"
      ]
    },
    {
      "cell_type": "code",
      "execution_count": 175,
      "metadata": {
        "colab": {
          "base_uri": "https://localhost:8080/"
        },
        "id": "kESpLRqS3vMs",
        "outputId": "e08f2cc8-e614-4c70-e918-d7cd6ac99493"
      },
      "outputs": [
        {
          "output_type": "stream",
          "name": "stdout",
          "text": [
            "Requirement already satisfied: pydub in /usr/local/lib/python3.11/dist-packages (0.25.1)\n"
          ]
        }
      ],
      "source": [
        "!pip install pydub # ✅ pydub লাইব্রেরি ইনস্টল করা হচ্ছে, যা অডিও ফাইল প্রক্রিয়াকরণের জন্য ব্যবহৃত হয়\n",
        "\n"
      ]
    },
    {
      "cell_type": "code",
      "execution_count": 176,
      "metadata": {
        "colab": {
          "base_uri": "https://localhost:8080/"
        },
        "id": "wAWQvG3V3wZd",
        "outputId": "fb6576d0-271b-42cf-ee0e-e361131f0765"
      },
      "outputs": [
        {
          "output_type": "stream",
          "name": "stdout",
          "text": [
            "Requirement already satisfied: pyttsx3 in /usr/local/lib/python3.11/dist-packages (2.98)\n"
          ]
        }
      ],
      "source": [
        "!pip install pyttsx3 # ✅ pyttsx3 লাইব্রেরি ইনস্টল করা হচ্ছে, যা টেক্সটকে স্পিচে রূপান্তরের (Text-to-Speech) জন্য ব্যবহৃত হয়\n",
        "\n"
      ]
    },
    {
      "cell_type": "code",
      "execution_count": 177,
      "metadata": {
        "colab": {
          "base_uri": "https://localhost:8080/"
        },
        "id": "zt4P635_3zCF",
        "outputId": "fcc1fd46-9687-4f81-fb01-fe964b67f195"
      },
      "outputs": [
        {
          "output_type": "stream",
          "name": "stdout",
          "text": [
            "Requirement already satisfied: comtypes in /usr/local/lib/python3.11/dist-packages (1.4.9)\n"
          ]
        }
      ],
      "source": [
        "!pip install comtypes # ✅ comtypes লাইব্রেরি ইনস্টল করা হচ্ছে, যা Windows COM অবজেক্ট ম্যানেজমেন্টের জন্য ব্যবহৃত হয়\n",
        "\n"
      ]
    },
    {
      "cell_type": "code",
      "execution_count": 178,
      "metadata": {
        "id": "EQn9l2b43zf9"
      },
      "outputs": [],
      "source": [
        "import speech_recognition as sr\n",
        "from pydub import AudioSegment\n",
        "from pydub.playback import play\n",
        "import os\n",
        "import sys\n",
        "import wave\n",
        "import IPython.display as ipd\n",
        "import tkinter as tk\n",
        "from tkinter import filedialog"
      ]
    },
    {
      "cell_type": "code",
      "execution_count": 179,
      "metadata": {
        "id": "Ejo0UvXs32hd"
      },
      "outputs": [],
      "source": [
        "import speech_recognition as sr\n",
        "from pydub import AudioSegment\n",
        "import os\n",
        "import sys\n",
        "import webbrowser\n",
        "import IPython.display as ipd\n",
        "import tkinter as tk\n",
        "from tkinter import filedialog\n",
        "import pyttsx3\n",
        "import requests\n",
        "from bs4 import BeautifulSoup"
      ]
    },
    {
      "cell_type": "code",
      "execution_count": 180,
      "metadata": {
        "colab": {
          "base_uri": "https://localhost:8080/"
        },
        "id": "1WNxMAOR32f5",
        "outputId": "1590a2ea-f33d-45f7-a4a2-bffce73aff90"
      },
      "outputs": [
        {
          "output_type": "stream",
          "name": "stdout",
          "text": [
            "Requirement already satisfied: pyttsx3 in /usr/local/lib/python3.11/dist-packages (2.98)\n",
            "Reading package lists... Done\n",
            "Building dependency tree... Done\n",
            "Reading state information... Done\n",
            "espeak is already the newest version (1.48.15+dfsg-3).\n",
            "0 upgraded, 0 newly installed, 0 to remove and 19 not upgraded.\n"
          ]
        }
      ],
      "source": [
        "!pip install pyttsx3\n",
        "!sudo apt install espeak # Install espeak\n",
        "\n",
        "import pyttsx3\n",
        "\n",
        "# ✅ Text-to-Speech (TTS) সেটআপ\n",
        "# Instead of using 'sapi5', try using 'espeak' which is available on Linux and is now installed.\n",
        "engine = pyttsx3.init('espeak')\n",
        "voices = engine.getProperty('voices')\n",
        "# If you want to use the first available voice\n",
        "engine.setProperty('voice', voices[0].id)\n",
        "\n",
        "def speak(audio):\n",
        "    \"\"\"Text-to-Speech ফাংশন, যা অ্যাসিস্ট্যান্টকে কথা বলাবে\"\"\"\n",
        "    engine.say(audio)\n",
        "    engine.runAndWait()"
      ]
    },
    {
      "cell_type": "code",
      "execution_count": 181,
      "metadata": {
        "colab": {
          "base_uri": "https://localhost:8080/",
          "height": 1000
        },
        "id": "QwIjRHWr32eE",
        "outputId": "1f412514-acaf-461a-b020-a1d49ea8e5aa"
      },
      "outputs": [
        {
          "output_type": "stream",
          "name": "stdout",
          "text": [
            "Requirement already satisfied: ipywidgets in /usr/local/lib/python3.11/dist-packages (7.7.1)\n",
            "Requirement already satisfied: ipykernel>=4.5.1 in /usr/local/lib/python3.11/dist-packages (from ipywidgets) (5.5.6)\n",
            "Requirement already satisfied: ipython-genutils~=0.2.0 in /usr/local/lib/python3.11/dist-packages (from ipywidgets) (0.2.0)\n",
            "Requirement already satisfied: traitlets>=4.3.1 in /usr/local/lib/python3.11/dist-packages (from ipywidgets) (5.7.1)\n",
            "Requirement already satisfied: widgetsnbextension~=3.6.0 in /usr/local/lib/python3.11/dist-packages (from ipywidgets) (3.6.10)\n",
            "Requirement already satisfied: ipython>=4.0.0 in /usr/local/lib/python3.11/dist-packages (from ipywidgets) (7.34.0)\n",
            "Requirement already satisfied: jupyterlab-widgets>=1.0.0 in /usr/local/lib/python3.11/dist-packages (from ipywidgets) (3.0.13)\n",
            "Requirement already satisfied: jupyter-client in /usr/local/lib/python3.11/dist-packages (from ipykernel>=4.5.1->ipywidgets) (6.1.12)\n",
            "Requirement already satisfied: tornado>=4.2 in /usr/local/lib/python3.11/dist-packages (from ipykernel>=4.5.1->ipywidgets) (6.4.2)\n",
            "Requirement already satisfied: setuptools>=18.5 in /usr/local/lib/python3.11/dist-packages (from ipython>=4.0.0->ipywidgets) (75.1.0)\n",
            "Requirement already satisfied: jedi>=0.16 in /usr/local/lib/python3.11/dist-packages (from ipython>=4.0.0->ipywidgets) (0.19.2)\n",
            "Requirement already satisfied: decorator in /usr/local/lib/python3.11/dist-packages (from ipython>=4.0.0->ipywidgets) (4.4.2)\n",
            "Requirement already satisfied: pickleshare in /usr/local/lib/python3.11/dist-packages (from ipython>=4.0.0->ipywidgets) (0.7.5)\n",
            "Requirement already satisfied: prompt-toolkit!=3.0.0,!=3.0.1,<3.1.0,>=2.0.0 in /usr/local/lib/python3.11/dist-packages (from ipython>=4.0.0->ipywidgets) (3.0.50)\n",
            "Requirement already satisfied: pygments in /usr/local/lib/python3.11/dist-packages (from ipython>=4.0.0->ipywidgets) (2.18.0)\n",
            "Requirement already satisfied: backcall in /usr/local/lib/python3.11/dist-packages (from ipython>=4.0.0->ipywidgets) (0.2.0)\n",
            "Requirement already satisfied: matplotlib-inline in /usr/local/lib/python3.11/dist-packages (from ipython>=4.0.0->ipywidgets) (0.1.7)\n",
            "Requirement already satisfied: pexpect>4.3 in /usr/local/lib/python3.11/dist-packages (from ipython>=4.0.0->ipywidgets) (4.9.0)\n",
            "Requirement already satisfied: notebook>=4.4.1 in /usr/local/lib/python3.11/dist-packages (from widgetsnbextension~=3.6.0->ipywidgets) (6.5.5)\n",
            "Requirement already satisfied: parso<0.9.0,>=0.8.4 in /usr/local/lib/python3.11/dist-packages (from jedi>=0.16->ipython>=4.0.0->ipywidgets) (0.8.4)\n",
            "Requirement already satisfied: jinja2 in /usr/local/lib/python3.11/dist-packages (from notebook>=4.4.1->widgetsnbextension~=3.6.0->ipywidgets) (3.1.5)\n",
            "Requirement already satisfied: pyzmq<25,>=17 in /usr/local/lib/python3.11/dist-packages (from notebook>=4.4.1->widgetsnbextension~=3.6.0->ipywidgets) (24.0.1)\n",
            "Requirement already satisfied: argon2-cffi in /usr/local/lib/python3.11/dist-packages (from notebook>=4.4.1->widgetsnbextension~=3.6.0->ipywidgets) (23.1.0)\n",
            "Requirement already satisfied: jupyter-core>=4.6.1 in /usr/local/lib/python3.11/dist-packages (from notebook>=4.4.1->widgetsnbextension~=3.6.0->ipywidgets) (5.7.2)\n",
            "Requirement already satisfied: nbformat in /usr/local/lib/python3.11/dist-packages (from notebook>=4.4.1->widgetsnbextension~=3.6.0->ipywidgets) (5.10.4)\n",
            "Requirement already satisfied: nbconvert>=5 in /usr/local/lib/python3.11/dist-packages (from notebook>=4.4.1->widgetsnbextension~=3.6.0->ipywidgets) (7.16.6)\n",
            "Requirement already satisfied: nest-asyncio>=1.5 in /usr/local/lib/python3.11/dist-packages (from notebook>=4.4.1->widgetsnbextension~=3.6.0->ipywidgets) (1.6.0)\n",
            "Requirement already satisfied: Send2Trash>=1.8.0 in /usr/local/lib/python3.11/dist-packages (from notebook>=4.4.1->widgetsnbextension~=3.6.0->ipywidgets) (1.8.3)\n",
            "Requirement already satisfied: terminado>=0.8.3 in /usr/local/lib/python3.11/dist-packages (from notebook>=4.4.1->widgetsnbextension~=3.6.0->ipywidgets) (0.18.1)\n",
            "Requirement already satisfied: prometheus-client in /usr/local/lib/python3.11/dist-packages (from notebook>=4.4.1->widgetsnbextension~=3.6.0->ipywidgets) (0.21.1)\n",
            "Requirement already satisfied: nbclassic>=0.4.7 in /usr/local/lib/python3.11/dist-packages (from notebook>=4.4.1->widgetsnbextension~=3.6.0->ipywidgets) (1.2.0)\n",
            "Requirement already satisfied: python-dateutil>=2.1 in /usr/local/lib/python3.11/dist-packages (from jupyter-client->ipykernel>=4.5.1->ipywidgets) (2.8.2)\n",
            "Requirement already satisfied: ptyprocess>=0.5 in /usr/local/lib/python3.11/dist-packages (from pexpect>4.3->ipython>=4.0.0->ipywidgets) (0.7.0)\n",
            "Requirement already satisfied: wcwidth in /usr/local/lib/python3.11/dist-packages (from prompt-toolkit!=3.0.0,!=3.0.1,<3.1.0,>=2.0.0->ipython>=4.0.0->ipywidgets) (0.2.13)\n",
            "Requirement already satisfied: platformdirs>=2.5 in /usr/local/lib/python3.11/dist-packages (from jupyter-core>=4.6.1->notebook>=4.4.1->widgetsnbextension~=3.6.0->ipywidgets) (4.3.6)\n",
            "Requirement already satisfied: notebook-shim>=0.2.3 in /usr/local/lib/python3.11/dist-packages (from nbclassic>=0.4.7->notebook>=4.4.1->widgetsnbextension~=3.6.0->ipywidgets) (0.2.4)\n",
            "Requirement already satisfied: beautifulsoup4 in /usr/local/lib/python3.11/dist-packages (from nbconvert>=5->notebook>=4.4.1->widgetsnbextension~=3.6.0->ipywidgets) (4.13.1)\n",
            "Requirement already satisfied: bleach!=5.0.0 in /usr/local/lib/python3.11/dist-packages (from bleach[css]!=5.0.0->nbconvert>=5->notebook>=4.4.1->widgetsnbextension~=3.6.0->ipywidgets) (6.2.0)\n",
            "Requirement already satisfied: defusedxml in /usr/local/lib/python3.11/dist-packages (from nbconvert>=5->notebook>=4.4.1->widgetsnbextension~=3.6.0->ipywidgets) (0.7.1)\n",
            "Requirement already satisfied: jupyterlab-pygments in /usr/local/lib/python3.11/dist-packages (from nbconvert>=5->notebook>=4.4.1->widgetsnbextension~=3.6.0->ipywidgets) (0.3.0)\n",
            "Requirement already satisfied: markupsafe>=2.0 in /usr/local/lib/python3.11/dist-packages (from nbconvert>=5->notebook>=4.4.1->widgetsnbextension~=3.6.0->ipywidgets) (3.0.2)\n",
            "Requirement already satisfied: mistune<4,>=2.0.3 in /usr/local/lib/python3.11/dist-packages (from nbconvert>=5->notebook>=4.4.1->widgetsnbextension~=3.6.0->ipywidgets) (3.1.1)\n",
            "Requirement already satisfied: nbclient>=0.5.0 in /usr/local/lib/python3.11/dist-packages (from nbconvert>=5->notebook>=4.4.1->widgetsnbextension~=3.6.0->ipywidgets) (0.10.2)\n",
            "Requirement already satisfied: packaging in /usr/local/lib/python3.11/dist-packages (from nbconvert>=5->notebook>=4.4.1->widgetsnbextension~=3.6.0->ipywidgets) (24.2)\n",
            "Requirement already satisfied: pandocfilters>=1.4.1 in /usr/local/lib/python3.11/dist-packages (from nbconvert>=5->notebook>=4.4.1->widgetsnbextension~=3.6.0->ipywidgets) (1.5.1)\n",
            "Requirement already satisfied: fastjsonschema>=2.15 in /usr/local/lib/python3.11/dist-packages (from nbformat->notebook>=4.4.1->widgetsnbextension~=3.6.0->ipywidgets) (2.21.1)\n",
            "Requirement already satisfied: jsonschema>=2.6 in /usr/local/lib/python3.11/dist-packages (from nbformat->notebook>=4.4.1->widgetsnbextension~=3.6.0->ipywidgets) (4.23.0)\n",
            "Requirement already satisfied: six>=1.5 in /usr/local/lib/python3.11/dist-packages (from python-dateutil>=2.1->jupyter-client->ipykernel>=4.5.1->ipywidgets) (1.17.0)\n",
            "Requirement already satisfied: argon2-cffi-bindings in /usr/local/lib/python3.11/dist-packages (from argon2-cffi->notebook>=4.4.1->widgetsnbextension~=3.6.0->ipywidgets) (21.2.0)\n",
            "Requirement already satisfied: webencodings in /usr/local/lib/python3.11/dist-packages (from bleach!=5.0.0->bleach[css]!=5.0.0->nbconvert>=5->notebook>=4.4.1->widgetsnbextension~=3.6.0->ipywidgets) (0.5.1)\n",
            "Requirement already satisfied: tinycss2<1.5,>=1.1.0 in /usr/local/lib/python3.11/dist-packages (from bleach[css]!=5.0.0->nbconvert>=5->notebook>=4.4.1->widgetsnbextension~=3.6.0->ipywidgets) (1.4.0)\n",
            "Requirement already satisfied: attrs>=22.2.0 in /usr/local/lib/python3.11/dist-packages (from jsonschema>=2.6->nbformat->notebook>=4.4.1->widgetsnbextension~=3.6.0->ipywidgets) (25.1.0)\n",
            "Requirement already satisfied: jsonschema-specifications>=2023.03.6 in /usr/local/lib/python3.11/dist-packages (from jsonschema>=2.6->nbformat->notebook>=4.4.1->widgetsnbextension~=3.6.0->ipywidgets) (2024.10.1)\n",
            "Requirement already satisfied: referencing>=0.28.4 in /usr/local/lib/python3.11/dist-packages (from jsonschema>=2.6->nbformat->notebook>=4.4.1->widgetsnbextension~=3.6.0->ipywidgets) (0.36.2)\n",
            "Requirement already satisfied: rpds-py>=0.7.1 in /usr/local/lib/python3.11/dist-packages (from jsonschema>=2.6->nbformat->notebook>=4.4.1->widgetsnbextension~=3.6.0->ipywidgets) (0.22.3)\n",
            "Requirement already satisfied: jupyter-server<3,>=1.8 in /usr/local/lib/python3.11/dist-packages (from notebook-shim>=0.2.3->nbclassic>=0.4.7->notebook>=4.4.1->widgetsnbextension~=3.6.0->ipywidgets) (1.24.0)\n",
            "Requirement already satisfied: cffi>=1.0.1 in /usr/local/lib/python3.11/dist-packages (from argon2-cffi-bindings->argon2-cffi->notebook>=4.4.1->widgetsnbextension~=3.6.0->ipywidgets) (1.17.1)\n",
            "Requirement already satisfied: soupsieve>1.2 in /usr/local/lib/python3.11/dist-packages (from beautifulsoup4->nbconvert>=5->notebook>=4.4.1->widgetsnbextension~=3.6.0->ipywidgets) (2.6)\n",
            "Requirement already satisfied: typing-extensions>=4.0.0 in /usr/local/lib/python3.11/dist-packages (from beautifulsoup4->nbconvert>=5->notebook>=4.4.1->widgetsnbextension~=3.6.0->ipywidgets) (4.12.2)\n",
            "Requirement already satisfied: pycparser in /usr/local/lib/python3.11/dist-packages (from cffi>=1.0.1->argon2-cffi-bindings->argon2-cffi->notebook>=4.4.1->widgetsnbextension~=3.6.0->ipywidgets) (2.22)\n",
            "Requirement already satisfied: anyio<4,>=3.1.0 in /usr/local/lib/python3.11/dist-packages (from jupyter-server<3,>=1.8->notebook-shim>=0.2.3->nbclassic>=0.4.7->notebook>=4.4.1->widgetsnbextension~=3.6.0->ipywidgets) (3.7.1)\n",
            "Requirement already satisfied: websocket-client in /usr/local/lib/python3.11/dist-packages (from jupyter-server<3,>=1.8->notebook-shim>=0.2.3->nbclassic>=0.4.7->notebook>=4.4.1->widgetsnbextension~=3.6.0->ipywidgets) (1.8.0)\n",
            "Requirement already satisfied: idna>=2.8 in /usr/local/lib/python3.11/dist-packages (from anyio<4,>=3.1.0->jupyter-server<3,>=1.8->notebook-shim>=0.2.3->nbclassic>=0.4.7->notebook>=4.4.1->widgetsnbextension~=3.6.0->ipywidgets) (3.10)\n",
            "Requirement already satisfied: sniffio>=1.1 in /usr/local/lib/python3.11/dist-packages (from anyio<4,>=3.1.0->jupyter-server<3,>=1.8->notebook-shim>=0.2.3->nbclassic>=0.4.7->notebook>=4.4.1->widgetsnbextension~=3.6.0->ipywidgets) (1.3.1)\n"
          ]
        },
        {
          "output_type": "display_data",
          "data": {
            "text/plain": [
              "<IPython.core.display.HTML object>"
            ],
            "text/html": [
              "\n",
              "     <input type=\"file\" id=\"files-4640ccef-2c7f-47b3-a740-c87682c28c36\" name=\"files[]\" multiple disabled\n",
              "        style=\"border:none\" />\n",
              "     <output id=\"result-4640ccef-2c7f-47b3-a740-c87682c28c36\">\n",
              "      Upload widget is only available when the cell has been executed in the\n",
              "      current browser session. Please rerun this cell to enable.\n",
              "      </output>\n",
              "      <script>// Copyright 2017 Google LLC\n",
              "//\n",
              "// Licensed under the Apache License, Version 2.0 (the \"License\");\n",
              "// you may not use this file except in compliance with the License.\n",
              "// You may obtain a copy of the License at\n",
              "//\n",
              "//      http://www.apache.org/licenses/LICENSE-2.0\n",
              "//\n",
              "// Unless required by applicable law or agreed to in writing, software\n",
              "// distributed under the License is distributed on an \"AS IS\" BASIS,\n",
              "// WITHOUT WARRANTIES OR CONDITIONS OF ANY KIND, either express or implied.\n",
              "// See the License for the specific language governing permissions and\n",
              "// limitations under the License.\n",
              "\n",
              "/**\n",
              " * @fileoverview Helpers for google.colab Python module.\n",
              " */\n",
              "(function(scope) {\n",
              "function span(text, styleAttributes = {}) {\n",
              "  const element = document.createElement('span');\n",
              "  element.textContent = text;\n",
              "  for (const key of Object.keys(styleAttributes)) {\n",
              "    element.style[key] = styleAttributes[key];\n",
              "  }\n",
              "  return element;\n",
              "}\n",
              "\n",
              "// Max number of bytes which will be uploaded at a time.\n",
              "const MAX_PAYLOAD_SIZE = 100 * 1024;\n",
              "\n",
              "function _uploadFiles(inputId, outputId) {\n",
              "  const steps = uploadFilesStep(inputId, outputId);\n",
              "  const outputElement = document.getElementById(outputId);\n",
              "  // Cache steps on the outputElement to make it available for the next call\n",
              "  // to uploadFilesContinue from Python.\n",
              "  outputElement.steps = steps;\n",
              "\n",
              "  return _uploadFilesContinue(outputId);\n",
              "}\n",
              "\n",
              "// This is roughly an async generator (not supported in the browser yet),\n",
              "// where there are multiple asynchronous steps and the Python side is going\n",
              "// to poll for completion of each step.\n",
              "// This uses a Promise to block the python side on completion of each step,\n",
              "// then passes the result of the previous step as the input to the next step.\n",
              "function _uploadFilesContinue(outputId) {\n",
              "  const outputElement = document.getElementById(outputId);\n",
              "  const steps = outputElement.steps;\n",
              "\n",
              "  const next = steps.next(outputElement.lastPromiseValue);\n",
              "  return Promise.resolve(next.value.promise).then((value) => {\n",
              "    // Cache the last promise value to make it available to the next\n",
              "    // step of the generator.\n",
              "    outputElement.lastPromiseValue = value;\n",
              "    return next.value.response;\n",
              "  });\n",
              "}\n",
              "\n",
              "/**\n",
              " * Generator function which is called between each async step of the upload\n",
              " * process.\n",
              " * @param {string} inputId Element ID of the input file picker element.\n",
              " * @param {string} outputId Element ID of the output display.\n",
              " * @return {!Iterable<!Object>} Iterable of next steps.\n",
              " */\n",
              "function* uploadFilesStep(inputId, outputId) {\n",
              "  const inputElement = document.getElementById(inputId);\n",
              "  inputElement.disabled = false;\n",
              "\n",
              "  const outputElement = document.getElementById(outputId);\n",
              "  outputElement.innerHTML = '';\n",
              "\n",
              "  const pickedPromise = new Promise((resolve) => {\n",
              "    inputElement.addEventListener('change', (e) => {\n",
              "      resolve(e.target.files);\n",
              "    });\n",
              "  });\n",
              "\n",
              "  const cancel = document.createElement('button');\n",
              "  inputElement.parentElement.appendChild(cancel);\n",
              "  cancel.textContent = 'Cancel upload';\n",
              "  const cancelPromise = new Promise((resolve) => {\n",
              "    cancel.onclick = () => {\n",
              "      resolve(null);\n",
              "    };\n",
              "  });\n",
              "\n",
              "  // Wait for the user to pick the files.\n",
              "  const files = yield {\n",
              "    promise: Promise.race([pickedPromise, cancelPromise]),\n",
              "    response: {\n",
              "      action: 'starting',\n",
              "    }\n",
              "  };\n",
              "\n",
              "  cancel.remove();\n",
              "\n",
              "  // Disable the input element since further picks are not allowed.\n",
              "  inputElement.disabled = true;\n",
              "\n",
              "  if (!files) {\n",
              "    return {\n",
              "      response: {\n",
              "        action: 'complete',\n",
              "      }\n",
              "    };\n",
              "  }\n",
              "\n",
              "  for (const file of files) {\n",
              "    const li = document.createElement('li');\n",
              "    li.append(span(file.name, {fontWeight: 'bold'}));\n",
              "    li.append(span(\n",
              "        `(${file.type || 'n/a'}) - ${file.size} bytes, ` +\n",
              "        `last modified: ${\n",
              "            file.lastModifiedDate ? file.lastModifiedDate.toLocaleDateString() :\n",
              "                                    'n/a'} - `));\n",
              "    const percent = span('0% done');\n",
              "    li.appendChild(percent);\n",
              "\n",
              "    outputElement.appendChild(li);\n",
              "\n",
              "    const fileDataPromise = new Promise((resolve) => {\n",
              "      const reader = new FileReader();\n",
              "      reader.onload = (e) => {\n",
              "        resolve(e.target.result);\n",
              "      };\n",
              "      reader.readAsArrayBuffer(file);\n",
              "    });\n",
              "    // Wait for the data to be ready.\n",
              "    let fileData = yield {\n",
              "      promise: fileDataPromise,\n",
              "      response: {\n",
              "        action: 'continue',\n",
              "      }\n",
              "    };\n",
              "\n",
              "    // Use a chunked sending to avoid message size limits. See b/62115660.\n",
              "    let position = 0;\n",
              "    do {\n",
              "      const length = Math.min(fileData.byteLength - position, MAX_PAYLOAD_SIZE);\n",
              "      const chunk = new Uint8Array(fileData, position, length);\n",
              "      position += length;\n",
              "\n",
              "      const base64 = btoa(String.fromCharCode.apply(null, chunk));\n",
              "      yield {\n",
              "        response: {\n",
              "          action: 'append',\n",
              "          file: file.name,\n",
              "          data: base64,\n",
              "        },\n",
              "      };\n",
              "\n",
              "      let percentDone = fileData.byteLength === 0 ?\n",
              "          100 :\n",
              "          Math.round((position / fileData.byteLength) * 100);\n",
              "      percent.textContent = `${percentDone}% done`;\n",
              "\n",
              "    } while (position < fileData.byteLength);\n",
              "  }\n",
              "\n",
              "  // All done.\n",
              "  yield {\n",
              "    response: {\n",
              "      action: 'complete',\n",
              "    }\n",
              "  };\n",
              "}\n",
              "\n",
              "scope.google = scope.google || {};\n",
              "scope.google.colab = scope.google.colab || {};\n",
              "scope.google.colab._files = {\n",
              "  _uploadFiles,\n",
              "  _uploadFilesContinue,\n",
              "};\n",
              "})(self);\n",
              "</script> "
            ]
          },
          "metadata": {}
        },
        {
          "output_type": "stream",
          "name": "stdout",
          "text": [
            "Saving goto google.mp3 to goto google.mp3\n",
            "Uploaded file: goto google.mp3\n"
          ]
        }
      ],
      "source": [
        "# ✅ GUI দিয়ে লোকাল ফাইল সিলেক্ট করার ফাংশন\n",
        "def select_audio_file():\n",
        "    root = tk.Tk()\n",
        "    root.withdraw()  # GUI উইন্ডো হাইড করে রাখবে\n",
        "    file_path = filedialog.askopenfilename(title=\"Select an audio file\",\n",
        "                                           filetypes=[(\"Audio Files\", \"*.wav;*.mp3\")])\n",
        "    return file_path\n",
        "\n",
        "!pip install ipywidgets\n",
        "from IPython.display import display\n",
        "import ipywidgets as widgets\n",
        "from IPython.display import display, Audio\n",
        "\n",
        "def select_audio_file():\n",
        "    \"\"\"\n",
        "    Uses IPython's file upload widget to select an audio file.\n",
        "    \"\"\"\n",
        "\n",
        "    uploader = widgets.FileUpload(\n",
        "        accept='.wav, .mp3',  # Accepted file types\n",
        "        multiple=False  # Allow only one file to be uploaded\n",
        "    )\n",
        "\n",
        "    display(uploader)\n",
        "\n",
        "    # Wait for the user to upload a file\n",
        "    while not uploader.value:\n",
        "        pass  # This loop will wait until the widget has a value\n",
        "\n",
        "    # Get the uploaded file data\n",
        "    uploaded_file = uploader.value[0]  # Get the first uploaded file\n",
        "\n",
        "    # Write the file to the current directory\n",
        "    with open(uploaded_file['name'], 'wb') as f:\n",
        "        f.write(uploaded_file['content'])\n",
        "\n",
        "    return uploaded_file['name']\n",
        "\n",
        "from google.colab import files\n",
        "\n",
        "# Upload audio file\n",
        "uploaded = files.upload()\n",
        "file_name = list(uploaded.keys())[0]\n",
        "print(f\"Uploaded file: {file_name}\")"
      ]
    },
    {
      "cell_type": "code",
      "execution_count": 182,
      "metadata": {
        "colab": {
          "base_uri": "https://localhost:8080/"
        },
        "id": "RB7HXv8P32b8",
        "outputId": "7b19cd98-cf66-4d2e-c72f-cb3808762ee1"
      },
      "outputs": [
        {
          "output_type": "stream",
          "name": "stdout",
          "text": [
            "Converted goto google.mp3 to goto google.wav\n"
          ]
        }
      ],
      "source": [
        "# ✅ MP3 হলে WAV-এ কনভার্ট করা\n",
        "if file_name.endswith('.mp3'):\n",
        "    sound = AudioSegment.from_mp3(file_name)\n",
        "    file_name_wav = file_name.replace('.mp3', '.wav')\n",
        "    sound.export(file_name_wav, format=\"wav\")\n",
        "    print(f\"Converted {file_name} to {file_name_wav}\")\n",
        "else:\n",
        "    file_name_wav = file_name"
      ]
    },
    {
      "cell_type": "code",
      "execution_count": 183,
      "metadata": {
        "id": "Ia0PKXxT32YO"
      },
      "outputs": [],
      "source": [
        "# ✅ Speech Recognition সেটআপ\n",
        "recognizer = sr.Recognizer()"
      ]
    },
    {
      "cell_type": "code",
      "execution_count": 184,
      "metadata": {
        "colab": {
          "base_uri": "https://localhost:8080/"
        },
        "id": "XBK_IBzu32WN",
        "outputId": "ec50f823-7cca-4150-8ec0-a6f0a057060a"
      },
      "outputs": [
        {
          "output_type": "stream",
          "name": "stdout",
          "text": [
            "Processing audio file...\n"
          ]
        }
      ],
      "source": [
        "# ✅ অডিও ফাইল থেকে স্পিচ রেকগনাইজ করা\n",
        "with sr.AudioFile(file_name_wav) as source:\n",
        "    print(\"Processing audio file...\")\n",
        "    audio = recognizer.record(source)"
      ]
    },
    {
      "cell_type": "code",
      "execution_count": 185,
      "metadata": {
        "colab": {
          "base_uri": "https://localhost:8080/"
        },
        "id": "DfnN01Mr4Fr1",
        "outputId": "8de16647-ee94-4a15-d2a5-c5af43999343"
      },
      "outputs": [
        {
          "output_type": "stream",
          "name": "stdout",
          "text": [
            "Requirement already satisfied: wikipedia in /usr/local/lib/python3.11/dist-packages (1.4.0)\n",
            "Requirement already satisfied: beautifulsoup4 in /usr/local/lib/python3.11/dist-packages (from wikipedia) (4.13.1)\n",
            "Requirement already satisfied: requests<3.0.0,>=2.0.0 in /usr/local/lib/python3.11/dist-packages (from wikipedia) (2.32.3)\n",
            "Requirement already satisfied: charset-normalizer<4,>=2 in /usr/local/lib/python3.11/dist-packages (from requests<3.0.0,>=2.0.0->wikipedia) (3.4.1)\n",
            "Requirement already satisfied: idna<4,>=2.5 in /usr/local/lib/python3.11/dist-packages (from requests<3.0.0,>=2.0.0->wikipedia) (3.10)\n",
            "Requirement already satisfied: urllib3<3,>=1.21.1 in /usr/local/lib/python3.11/dist-packages (from requests<3.0.0,>=2.0.0->wikipedia) (2.3.0)\n",
            "Requirement already satisfied: certifi>=2017.4.17 in /usr/local/lib/python3.11/dist-packages (from requests<3.0.0,>=2.0.0->wikipedia) (2025.1.31)\n",
            "Requirement already satisfied: soupsieve>1.2 in /usr/local/lib/python3.11/dist-packages (from beautifulsoup4->wikipedia) (2.6)\n",
            "Requirement already satisfied: typing-extensions>=4.0.0 in /usr/local/lib/python3.11/dist-packages (from beautifulsoup4->wikipedia) (4.12.2)\n",
            "Recognizing Speech...\n",
            "✅ Recognized English: go to Google\n",
            "✅ Recognized Bangla: দাও তো\n",
            "📝 Final Detected Speech: go to Google\n",
            "🔍 Checking Command: 'go to google' in 'go to google'\n",
            "✅ Match Found: go to google, Opening https://www.google.com\n",
            "🗣 Opening https://www.google.com\n"
          ]
        }
      ],
      "source": [
        "!pip install wikipedia\n",
        "import speech_recognition as sr\n",
        "import webbrowser\n",
        "import requests\n",
        "import wikipedia\n",
        "\n",
        "def speak(text):\n",
        "    print(f\"🗣 {text}\")\n",
        "\n",
        "def search_duckduckgo(query):\n",
        "    \"\"\"DuckDuckGo API ব্যবহার করে প্রশ্নের উত্তর খোঁজার ফাংশন\"\"\"\n",
        "    search_url = f\"https://api.duckduckgo.com/?q={query}&format=json\"\n",
        "    response = requests.get(search_url)\n",
        "    data = response.json()\n",
        "\n",
        "    if \"AbstractText\" in data and data[\"AbstractText\"]:\n",
        "        return data[\"AbstractText\"]\n",
        "    else:\n",
        "        return \"Sorry, I couldn't find the answer.\"\n",
        "\n",
        "def search_wikipedia(query):\n",
        "    \"\"\"উইকিপিডিয়া API ব্যবহার করে উত্তর আনার ফাংশন\"\"\"\n",
        "    try:\n",
        "        result = wikipedia.summary(query, sentences=2)\n",
        "        return result\n",
        "    except wikipedia.exceptions.DisambiguationError as e:\n",
        "        return f\"Multiple results found: {e.options[:5]}\"\n",
        "    except wikipedia.exceptions.PageError:\n",
        "        return \"Sorry, I couldn't find the answer.\"\n",
        "\n",
        "recognizer = sr.Recognizer()\n",
        "\n",
        "try:\n",
        "    print(\"Recognizing Speech...\")\n",
        "    with sr.AudioFile(file_name_wav) as source:\n",
        "        audio = recognizer.record(source)\n",
        "\n",
        "    text_en = recognizer.recognize_google(audio, language='en-US')\n",
        "    text_bn = recognizer.recognize_google(audio, language='bn-BD')\n",
        "    detected_text = text_en if text_en else text_bn\n",
        "\n",
        "    print(f\"✅ Recognized English: {text_en}\")\n",
        "    print(f\"✅ Recognized Bangla: {text_bn}\")\n",
        "    print(f\"📝 Final Detected Speech: {detected_text}\")\n",
        "\n",
        "    if detected_text:\n",
        "        commands = {\n",
        "            \"go to google\": \"https://www.google.com\",\n",
        "            \"go to youtube\": \"https://www.youtube.com\",\n",
        "            \"go to facebook\": \"https://www.facebook.com\",\n",
        "            \"go to wikipedia\": \"https://www.wikipedia.org\",\n",
        "            \"গুগলে যাও\": \"https://www.google.com\",\n",
        "            \"ইউটিউবে যাও\": \"https://www.youtube.com\",\n",
        "            \"ফেসবুকে যাও\": \"https://www.facebook.com\",\n",
        "            \"উইকিপিডিয়াতে যাও\": \"https://www.wikipedia.org\"\n",
        "        }\n",
        "\n",
        "        for command, url in commands.items():\n",
        "            print(f\"🔍 Checking Command: '{command}' in '{detected_text.lower()}'\")\n",
        "            if command in detected_text.lower():\n",
        "                print(f\"✅ Match Found: {command}, Opening {url}\")\n",
        "                speak(f\"Opening {url}\")\n",
        "                webbrowser.open(url)\n",
        "                break\n",
        "        else:\n",
        "            speak(\"Searching for the answer...\")\n",
        "            answer = search_duckduckgo(detected_text)\n",
        "\n",
        "            if answer and answer != \"Sorry, I couldn't find the answer.\":\n",
        "                print(f\"✅ DuckDuckGo Answer: {answer}\")\n",
        "                speak(answer)\n",
        "            else:\n",
        "                print(\"❌ Couldn't find the answer. Trying Wikipedia...\")\n",
        "                answer = search_wikipedia(detected_text)\n",
        "\n",
        "                if answer and answer != \"Sorry, I couldn't find the answer.\":\n",
        "                    print(f\"✅ Wikipedia Answer: {answer}\")\n",
        "                    speak(answer)\n",
        "                else:\n",
        "                    print(\"❌ Sorry, I couldn't find the answer.\")\n",
        "                    speak(\"Sorry, I couldn't find the answer.\")\n",
        "\n",
        "except sr.UnknownValueError:\n",
        "    print(\"❌ Could not understand the audio.\")\n",
        "    speak(\"I could not understand your speech.\")\n",
        "except sr.RequestError as e:\n",
        "    print(f\"❌ Error connecting to Google Speech Recognition API: {e}\")\n",
        "    speak(\"There was an error connecting to Google services.\")\n",
        "except Exception as e:\n",
        "    print(f\"❌ Error Occurred: {e}\")\n",
        "    speak(\"An error occurred while processing.\")\n",
        "\n"
      ]
    },
    {
      "cell_type": "code",
      "execution_count": 187,
      "metadata": {
        "colab": {
          "base_uri": "https://localhost:8080/",
          "height": 34
        },
        "id": "dY6J6Dmb-b9L",
        "outputId": "5fb2c4d1-6e80-424c-eb85-256939c478b8"
      },
      "outputs": [
        {
          "output_type": "display_data",
          "data": {
            "text/plain": [
              "<IPython.core.display.HTML object>"
            ],
            "text/html": [
              "<a href=\"https://www.google.com\" target=\"_blank\">Click here to open https://www.google.com</a>"
            ]
          },
          "metadata": {}
        }
      ],
      "source": [
        "# Colab ব্যবহার করলে লিংক ম্যানুয়ালি ক্লিক কর (Colab ব্রাউজার খুলতে দেয় না)।\n",
        "import IPython\n",
        "IPython.display.display(IPython.display.HTML(f'<a href=\"{url}\" target=\"_blank\">Click here to open {url}</a>'))\n"
      ]
    },
    {
      "cell_type": "code",
      "execution_count": 186,
      "metadata": {
        "colab": {
          "base_uri": "https://localhost:8080/",
          "height": 110
        },
        "id": "99mI13W-4Ft-",
        "outputId": "7adfd238-7bb3-4e4d-be67-22027ebe8819"
      },
      "outputs": [
        {
          "output_type": "stream",
          "name": "stdout",
          "text": [
            "\n",
            "🔊 Playing the uploaded audio...\n"
          ]
        },
        {
          "output_type": "display_data",
          "data": {
            "text/plain": [
              "<IPython.lib.display.Audio object>"
            ],
            "text/html": [
              "\n",
              "                <audio  controls=\"controls\" >\n",
              "                    <source src=\"data:audio/x-wav;base64,UklGRiS0AABXQVZFZm10IBAAAAABAAEAwF0AAIC7AAACABAAZGF0YQC0AAAAAAAAAAAAAAAAAAAAAAAAAAAAAAAAAAAAAAAAAAAAAAAAAAAAAAAAAAAAAAAAAAAAAAAAAAAAAAAAAAAAAAAAAAAAAAAAAAAAAAAAAAAAAAAAAAAAAAAAAAAAAAAAAAAAAAAAAAAAAAAAAAAAAAAAAAAAAAAAAAAAAAAAAAAAAAAAAAAAAAAAAAAAAAAAAAAAAAAAAAAAAAAAAAAAAAAAAAAAAAAAAAAAAAAAAAAAAAAAAAAAAAAAAAAAAAAAAAAAAAAAAAAAAAAAAAAAAAAAAAAAAAAAAAAAAAAAAAAAAAAAAAAAAAAAAAAAAAAAAAAAAAAAAAAAAAAAAAAAAAAAAAAAAAAAAAAAAAAAAAAAAAAAAAAAAAAAAAAAAAAAAAAAAAAAAAAAAAAAAAAAAAAAAAAAAAAAAAAAAAAAAAAAAAAAAAAAAAAAAAAAAAAAAAAAAAAAAAAAAAAAAAAAAAAAAAAAAAAAAAAAAAAAAAAAAAAAAAAAAAAAAAAAAAAAAAAAAAAAAAAAAAAAAAAAAAAAAAAAAAAAAAAAAAAAAAAAAAAAAAAAAAAAAAAAAAAAAAAAAAAAAAAAAAAAAAAAAAAAAAAAAAAAAAAAAAAAAAAAAAAAAAAAAAAAAAAAAAAAAAAAAAAAAAAAAAAAAAAAAAAAAAAAAAAAAAAAAAAAAAAAAAAAAAAAAAAAAAAAAAAAAAAAAAAAAAAAAAAAAAAAAAAAAAAAAAAAAAAAAAAAAAAAAAAAAAAAAAAAAAAAAAAAAAAAAAAAAAAAAAAAAAAAAAAAAAAAAAAAAAAAAAAAAAAAAAAAAAAAAAAAAAAAAAAAAAAAAAAAAAAAAAAAAAAAAAAAAAAAAAAAAAAAAAAAAAAAAAAAAAAAAAAAAAAAAAAAAAAAAAAAAAAAAAAAAAAAAAAAAAAAAAAAAAAAAAAAAAAAAAAAAAAAAAAAAAAAAAAAAAAAAAAAAAAAAAAAAAAAAAAAAAAAAAAAAAAAAAAAAAAAAAAAAAAAAAAAAAAAAAAAAAAAAAAAAAAAAAAAAAAAAAAAAAAAAAAAAAAAAAAAAAAAAAAAAAAAAAAAAAAAAAAAAAAAAAAAAAAAAAAAAAAAAAAAAAAAAAAAAAAAAAAAAAAAAAAAAAAAAAAAAAAAAAAAAAAAAAAAAAAAAAAAAAAAAAAAAAAAAAAAAAAAAAAAAAAAAAAAAAAAAAAAAAAAAAAAAAAAAAAAAAAAAAAAAAAAAAAAAAAAAAAAAAAAAAAAAAAAAAAAAAAAAAAAAAAAAAAAAAAAAAAAAAAAAAAAAAAAAAAAAAAAAAAAAAAAAAAAAAAAAAAAAAAAAAAAAAAAAAAAAAAAAAAAAAAAAAAAAAAAAAAAAAAAAAAAAAAAAAAAAAAAAAAAAAAAAAAAAAAAAAAAAAAAAAAAAAAAAAAAAAAAAAAAAAAAAAAAAAAAAAAAAAAAAAAAAAAAAAAAAAAAAAAAAAAAAAAAAAAAAAAAAAAAAAAAAAAAAAAAAAAAAAAAAAAAAAAAAAAAAAAAAAAAAAAAAAAAAAAAAAAAAAAAAAAAAAAAAAAAAAAAAAAAAAAAAAAAAAAAAAAAAAAAAAAAAAAAAAAAAAAAAAAAAAAAAAAAAAAAAAAAAAAAAAAAAAAAAAAAAAAAAAAAAAAAAAAAAAAAAAAAAAAAAAAAAAAAAAAAAAAAAAAAAAAAAAAAAAAAAAAAAAAAAAAAAAAAAAAAAAAAAAAAAAAAAAAAAAAAAAAAAAAAAAAAAAAAAAAAAAAAAAAAAAAAAAAAAAAAAAAAAAAAAAAAAAAAAAAAAAAAAAAAAAAAAAAAAAAAAAAAAAAAAAAAAAAAAAAAAAAAAAAAAAAAAAAAAAAAAAAAAAAAAAAAAAAAAAAAAAAAAAAAAAAAAAAAAAAAAAAAAAAAAAAAAAAAAAAAAAAAAAAAAAAAAAAAAAAAAAAAAAAAAAAAAAAAAAAAAAAAAAAAAAAAAAAAAAAAAAAAAAAAAAAAAAAAAAAAAAAAAAAAAAAAAAAAAAAAAAAAAAAAAAAAAAAAAAAAAAAAAAAAAAAAAAAAAAAAAAAAAAAAAAAAAAAAAAAAAAAAAAAAAAAAAAAAAAAAAAAAAAAAAAAAAAAAAAAAAAAAAAAAAAAAAAAAAAAAAAAAAAAAAAAAAAAAAAAAAAAAAAAAAAAAAAAAAAAAAAAAAAAAAAAAAAAAAAAAAAAAAAAAAAAAAAAAAAAAAAAAAAAAAAAAAAAAAAAAAAAAAAAAAAAAAAAAAAAAAAAAAAAAAAAAAAAAAAAAAAAAAAAAAAAAAAAAAAAAAAAAAAAAAAAAAAAAAAAAAAAAAAAAAAAAAAAAAAAAAAAAAAAAAAAAAAAAAAAAAAAAAAAAAAAAAAAAAAAAAAAAAAAAAAAAAAAAAAAAAAAAAAAAAAAAAAAAAAAAAAAAAAAAAAAAAAAAAAAAAAAAAAAAAAAAAAAAAAAAAAAAAAAAAAAAAAAAAAAAAAAAAAAAAAAAAAAAAAAAAAAAAAAAAAAAAAAAAAAAAAAAAAAAAAAAAAAAAAAAAAAAAAAAAAAAAAAAAAAAAAAAAAAAAAAAAAAAAAAAAAAAAAAAAAAAAAAAAAAAAAAAAAAAAAAAAAAAAAAAAAAAAAAAAAAAAAAAAAAAAAAAAAAAAAAAAAAAAAAAAAAAAAAAAAAAAAAAAAAAAAAAAAAAAAAAAAAAAAAAAAAAAAAAAAAAAAAAAAAAAAAAAAAAAAAAAAAAAAAAAAAAAAAAAAAAAAAAAAAAAAAAAAAAAAAAAAAAAAAAAAAAAAAAAAAAAAAAAAAAAAAAAAAAAAAAAAAAAAAAAAAAAAAAAAAAAP//AAAAAAAAAAAAAAAAAAAAAAAAAAAAAAAAAAAAAAAAAAAAAAAAAAAAAAAAAAAAAAAAAAABAAAAAAAAAAAAAQAAAAAAAAAAAAAAAAAAAAAAAAAAAP//AAD//wAAAAD//wAAAAAAAP////8AAAAAAAD/////AAAAAAAA//8AAAAA//8AAAAAAAAAAAAAAAAAAAAAAAAAAAAAAAAAAAAAAAAAAAAAAAAAAAAAAAAAAAAAAAAAAAAAAAAAAAAAAAD/////AAD///////////////////////8AAAAAAAAAAAAAAAAAAAAAAAABAAEAAAAAAAEAAQABAAEAAQABAAEAAQAAAAEAAAABAAEAAAABAAAAAAACAAAAAAABAP//AAAAAP/////+/wAAAAD//wAAAAAAAAAAAAD//wAAAAABAP//AAABAP////8AAAAA///+//7//v/+//7/AAD//wAA///+/wAA/v/+/wAAAQAAAP//AAD//wAA///+////AAD///3///8BAAMA///+/wIAAQD//wAAAQABAAIAAQAAAAEAAgAAAAEAAwACAAMAAQABAAQA//8AAAIAAQADAAIAAAACAAIAAAABAAEAAQACAAEAAAD///7///8AAAEAAQAAAP7///8AAP///v8AAP////8BAPr//f8BAPr//v/+//7////9//7//v/+//z//f/9//3/+//5//z//f/+//j/+f8AAP7/+//1//r//P/3//j/+P/4//v/+v/4//3//f////v/+//8//j////8/wEA///7/wAA+v////7//f///wIA+f/+/wkA/P8FAAkACQAIAAcACAAFABIADQAVABEAEQAUABEAFwALACwAGQAOACgABgAMABkAIAAXACAALgAWABwAFwAQAAsAFwAOAAQAGgAFAA0AEQAMAAwADAAMAPP/DAACAPf/EAAGAAoACwAMAAEAAwABAPf/AgD9/wcAEAARAAsACwAOAPz/DwAKAAMAFgAJAA8ADQAIABAABgARABgAEQATAA8AEAALAAcADQANABQAGQAKAAgADQAAAAIABAAJAAwAAwAQAAAA/f8KAPz/DwARAAYADgAQAAsABwAKAAQADAAOAAMABQAMABkAIAA4AFkAcQCRAJYAlACkAJ8ApwDKANsABAEXAQsBFAECAf0ACgEBAQoBDQH3AOsA2ADQANwA2QDlAOUAyQC+AJ8AgQB/AGcAVgBCABgA8v+9/5r/f/9g/0v/HP/7/tX+ov6G/mr+Wf5I/jz+OP4l/hv+Hf4Z/iz+Of4+/kr+Rv5Y/lz+Xf5u/nX+hf58/oL+lf6Z/qT+qf6p/qf+qf6t/sT+0/7e/vn+Av8X/yz/Ov9Y/3v/mv+u/8D/1v/t/wgALQBNAGsAiwChALMAxQDiAAkBKwFBAVYBcAGDAZEBpwG8AcwB4QHiAegB6wHsAQAC/wEGAgUC+gH1AdsB2AHPAbkBuwGqAYoBfQFgAUcBPgEhAQ4B/ADZAL0ApwCKAG4AVwA6AB0AAADp/9D/uP+g/4D/Yf9B/y7/F//4/uj+1P69/qn+k/6F/nj+bP5s/ln+Uf5O/jb+Nf4v/jD+N/42/jv+Mf4w/jH+NP5K/kv+Uf5p/m7+df6G/pH+rP7A/s/+6v70/gP/F/8o/0D/T/9j/3v/iv+f/6v/xv/l/+3///8OAB4AMQBDAFcAYAB4AIoAjwCnALkAwgDXAOIA6gD+AAQBFwEpATMBSgFSAVwBbwF6AYQBjQGbAaoBrAGxAbcBtgG5AbQBuAHBAb0BuwGwAaoBpQGeAaABlAGMAYcBcwFvAW0BYQFZAU8BSAE9ATIBLwElAR0BGQESARABBQH9APoA7QDnAOgA3QDTAM8AzgDMAL8AsACrAKgAmwCIAIEAeABpAFsASAA6ACwAFgAIAPr/5P/Z/8f/r/+j/5j/hf91/2b/WP9N/zz/MP8m/xH/Bf8A//P+4/7U/sX+t/6r/p3+k/6H/nT+c/5y/mj+af5k/l/+Yv5g/mH+Yf5i/mn+av5s/nH+cP5z/nr+d/5y/nL+dv53/nT+cf51/nn+dv54/n7+fv6I/o7+iv6W/qT+rP60/rf+w/7R/tb+4P7t/vj+A/8S/yD/K/8u/zb/S/9U/13/bv98/5T/qf+4/9H/6f8CABoAOgBcAHwAoQDDAOwADQE0AWsBjQG3AewBEAI/Am4CjwK5AucCCwMrA1QDegOYA7UD0APqA/0DCwQYBCIEJgQeBBgEFQQGBPAD3APMA7ADiQNpA0UDFgPsAsICjAJjAjIC8wHHAZgBXgEpAfYAxwCWAGQAMAD//9P/pP97/03/KP8K/9v+vP6b/nP+Wv42/hf+//3g/cj9sv2a/YP9dP1m/Vj9Tf07/Tr9M/0m/TD9Jv0f/Sr9K/01/Tf9O/1F/UT9TP1V/WP9cf15/Yj9lP2c/aP9rP2//dD92v3r/QD+D/4g/jT+Q/5R/mb+hP6W/qv+xv7c/v7+GP8o/0b/YP94/5b/sf/I/93/+f8RACYAOQBRAG0AfACRAKQAtADKANUA4gDyAAUBFgEWASMBLwEzAUQBRwFJAVUBVAFWAV0BXgFhAWYBawFsAWsBbAFuAWsBbQFwAWwBawFkAWMBZAFjAWQBXwFfAVwBVAFUAU8BSQFGAUMBRwFDATcBOAEwAScBJwEfARUBEAEDAf4A+gDjANoA1gDJALgAqACbAIcAegBpAFcASQAvACAAEgD9/+r/2v/M/7r/q/+l/5L/hv98/2r/ZP9V/0j/Pf8w/yr/Hf8V/wD/8f7r/tX+0v7E/q7+rP6W/of+if58/nT+bP5l/mn+Yf5g/lz+W/5i/lz+ZP5o/mT+bP51/nf+dv57/nn+d/6C/oj+gv6C/oD+iP6P/oj+lf6c/qD+q/6s/rP+vv7J/s/+3/7q/vL+/f4D/xP/JP8t/zX/Rv9P/1P/Y/90/4H/i/+l/7j/y//m////FAArAFIAdACWALkA2gAAASkBWQF6AaYB1gH6ASoCWQJ+AqgC1QL3AhwDPwNnA4wDqwPJA9gD9QMIBBMEIwQtBDEEJgQnBCMEEgQBBO8D1gO1A5kDewNOAyMDAgPJApgCagIoAvoBxwGPAVQBGAHgAKgAcwA1APz/xP+S/2D/J//5/sz+m/5t/kT+HP78/dT9rv2R/W79WP07/SD9DP34/Oj82vzO/L38t/yv/Kr8qvyg/KD8o/yn/K38sfy1/MH8x/zN/N385/z2/P78Cf0Y/Sf9OP1E/VL9Yf14/Yf9l/2u/bz90P3o/fr9C/4m/j3+VP5r/oX+n/62/tb+8P4I/yL/QP9d/3b/lP+v/8n/4v/+/xcAMABMAGAAdwCOAKEAswDIANgA6AD6AAYBFgEiAS4BOQFDAUsBUgFdAWIBbAFuAXMBfQF9AYMBhwGKAYwBkQGWAZgBmwGgAaIBoQGpAakBrgGzAbUBuAG4AbwBvAHBAcMBxAHGAckBxQHDAcUBugG+AbkBswGxAaoBpQGdAZkBiAGEAX0BcAFoAV4BUgFHAUABJwEjAQ4BAAH/AOUA3ADJAMEArgChAJIAeAB4AFsAUgBJADIAJQAWAAYA7//k/9T/xv+4/6L/i/99/2//X/9O/z//Lv8Y/wz/7/7n/tn+xP65/qH+pP6C/ob+eP5Y/mn+Rf5F/jf+KP4l/hH+I/4M/hT+E/4D/hj+Cv4G/gP+F/4b/hj+Nf4s/kb+TP5N/mX+ZP6H/oP+qP6//rr+8/7u/g3/I/8r/0n/Uf93/3r/kf+o/7P/z//d//X/BQAUABsAHwAzAEsAUABgAGUAZwB5AH8AiQCHAJwAkACRAKMAkAClAKcAtgC1ALkAuQC+AN0AwQDWAM4A0QDsAOAA9QDuAOwA9QD6AO8A6gDxAPIA8wD4APYA4gD4AOQA3gDuAM8A3gDtANcA0gDWAL8AwwC0AKYAoQCVAKcAgACEAH8AZwBzAFsAVQBXAFEAMAAyACUAGAAbAAUA/f/i//3/6f/Y/+n/v//J/8n/tf/D/8j/l/+i/7b/l/+i/5//sf+k/6b/p/+e/8b/hv+G/7f/m/+i/8X/xP/F/8//q/+e/5j/mf+Z/8D/0f/U/wsA6P/2//3/7P/k/9//DgDx/9r/vf/S/+H/CwAUAAEAUwASABsA5//d/yEA8P8iABgAcQA7AE8AmwA2AFoAoP/A/+j/wv9KAPX/OgDn/+3/XgCt/wwA+/+4/yIA8v8RACAAu/+e//L/6P8UAGsAu//K/5j/Wv8HALH/+/8TAMz/5v/D/00A4//w/ykAY//s/wgAt/8uABgAjP/Y/wgAof9lADEA5/9sAO//TwAGABUAHwCN/5EALQDTAPUA+v9RAH7/FgDk/5n/bQAdAE4AXgB5AEsAVwDh/+H/eQADAFMAXwDAAHEAFQBHAMr/SABCALP/tv+9/x//Q/+R/wQAjQBlAMsARgC2ABoARP+x/0T/5f/S/+H/o/9TAEsAHP/Z/8T/OwCW/9//KgDc/4MARP8lAJn/xv7h/5H/MwCWAHMARACN/3b/EgBz/1D/v//W/14A+P/v/0b/PP+l/4r/RQCu/wMAVgCb/1EApwCYABIAW/8YAMj/1P9RAGP/YgBaABMAtwBp/8D/XAC0/4gAiADb/24Aef/5/10A1v8TAT8AEAH7AHMA+QAm/8D/q/8t/5T/lf/z/33/pf8eAE8AzgAlATYA2//Q/2QApQBZ/0r/r/8UAawAx/8sAJn/bf+8/woAqv+iAJgAQADF/3j/kwCx/6oAFACS/7IAEf/P/l//8P7l/rr/Jf/y/3cANgBuAHr/zACh/z3/ZADa/8YAlgBTABsA3P8lAKj/Wv8SACwAjAD//2kAaQBuAIACSQA3CIMKJQW0BqP97vsR+vj1WPg7+uIAugHiBN8GogY8BPUBAv5v++IGUv84AS0FNf9aDQIGzgMjBpH/lAJQ+fb4GPvn+Rf+1/1h/0kCSQO+/w4Asf0L/LYAaf0IABcCUQA8AyP+nP3o/oD67P1o/yD/AAMNAGL/IgKx/Of99v5U/VMBtv3XAe0BeP94BO7+OgZRBZkDuAvBAlwGIQQBAFoDUfvw/NL76Pp0/H37mf89/zAAK/+r/TP9Xvs9/DT5APt5/A78mP82+zv+KwLV/VsAsv1Z/rQCA/4J/1wAyv7lAREBwP/1AVv/ov/fAN/+fwBG/0b+uP1O/SD+Jv7G/nL9hP9U/u39Df//++b+cf3Q/ML+q/xK/jD+Ff6T/nL+Fv98/qz9v/xj/bf9Rv5B/979m/8eAAD+1QBG/43+0ADB/SQA0QBT/w4CvQDGAFEB8f4/APgAz/5+AFsAKgDBAQT/w/6F/jn+YP/G/kP/mf8W/zn/FADm/T3/xP+T/LT/Qf5m/t4ABv9lAUMBEwG+AKwA2gKuAc8CHAKNAtMDogFmAwMCLgI9AxIB/gFgAJoBzAG3APMCkwBIAfoBGP44/2MBwP1r/8MB5v0NAiMAUP12Aj7/LP9E/yH+if9u/i//df4UACcAh/+hAN/+6ADCAGQAaAFEAcIBEAGDAt4A6gEaA1//dgLXApMAjQKFAvEBLQOHAhr/FwGYAc39BAHj/4n+dAJf/or/DgEh/nEBNv+D/90A8f7rANP+QwDN/5j+5gC7/I3/GAC7/HIAx/61/sEA4f4b/3cA4f+k/5T/9/56ACb/AwHOAGT/qQOo/10B3//s/YgC2/wpAYL/cP5nBEn+NAHHAVUAgwHm/28AzP8nAR8A9QBjASAChAIOAdwDngEXA4oDHQKiBL0CWAXzA5QDkgcABKIFLQZHA0YFpAThAuwDEQVFBEUFNQWEBAEFGQPQBNwC8gFyA9gARgNqAWUBOgFfAMUDlP4wAEMBx/3YAK4Asv5PAIcCMf+5AO8BUv8EASIBEQH4/1YC//88/tACTP+DABsAav5uAXj/qQCJ/+P/awJOACQAaf7+/oH9d/xF/uP69/03/bD7cf5d/H79a/rC+jL6BvfS+Er0bfax91f1Fvgq9Qb14feF9Ij0Nfbg8vT0//UL9EP00vYL9070P/q69tX0M/uj9iH33vsH+g34l/0q+k74dv4o+839fwFPBAUFdAh4C5gHsA28C3cKvQ6ADGUOKBC+DjgQoRKbEHsUqRLuEAUTVA5dDyIMFg40DI8KUw9FCKYM3wq/BpAJXAUgBsYB4AFEAej9XAObAMcAbgTHAn4CCgHJAM7/eAAKAvD/7QG8BIQDbANxBiwFEAUdB9QD+QSlBSsF1QTuBUMI/QUlCLQGpAUJBrEEcwRtAV8DzACv/+ABtgAJAfIAfACb/cz9AvqD9sf1c/SD8yvxCPQk8a/ynfPc8BLzBPA58Mvth+7F7bXrce4d7aPvlu5j8fzwAu/H8xTw5PHG87jvIPIw9Kfw9fEL84LxZPQA9QX1vPNa9rD1kfTm+Nr1f/ia+s75MvmH93T3SvZWAAIGwQckDX4KQw1PEc0O8g6pEDMSNhV+FZgT3xICFXIYoxjoGGAXgBQNEs8O/wx1DFYNkQsxDGYNnAhjB/8FAAXXBeQARv6P/MD7Wvyp+aj8Wf67/mcAeP22/A78u/1j/gz/vAEe/w8CqwNcA88HYgjuCV0K0gruCnwILwuyCrwM/RDfC9sMXQymCfwMawkOCWAIMgXUBFYBBQFpAIEB5gFl/8b+yvum+jj5vfcn+CH3NPYY9Vv0xPSS8ozyRfVT8071KfJC76vy1e6j8mHx6u9b9FnwvvO38kTxS/QG8kHxju7s7iXvhu+j8gTxqPBs8RLwwPFv8ovw2u8G8H/y6+/P8Crzv/Ay92b2RvW99u/zAfa988b35vXV9MgBrgSbDXcThA8jFCAXYBcuFYAUmRN3ElIXGBagE4kVoBZtGLEZABgnEM4L4wk1AokAef7/+U796f0X/LX87PtZ+8v6dfqY+Ov14PVY9ub3pPof/d/+nwM7BqEFFwnhBiMIdApaCDwMggneCcAMwg7HEeAR0hWyEiYW5RQ2DlgSBg1HD6oPMgxADS0JIwzcCIkI6AnfAzkEUwFO/7b+JP3o/oP/oQCG/6z8m/z7+xH74fkC+rv5A/ew+bj3gfYV++X3t/ip+c/2S/Y+9eTzufHz8QryZfAY8I/xxu5k7/3wauxc7mTrEeht6S/ocOm76fHqxeyI7QrsHu8Q75/t5fDa7AfvtPAg8QXzD/Qe9kv1L/zb/GH87/zq/fL8KfnyAjQDww1KFmgQbhoOHHMbuxrAGWQXaBQrF70OpQw5DZcKLw3AD9YNwgniCG0Cyv+A/VT4Tvdq94j4XfcA+aH5y/tb/fX8qP41/BP9dv0K/pb/KgD+A9UGjwtQDacN+hAdEHEQURIBD5YN0Qy5Cx8Ong2pDn8PABB7EZoP4g5ZDUYNYAzICvcI6AWuBvUFBAcVCBQICQhlBgMHUQNhACT/X/27/yz++fvG+3T5r/ss/bD7lf1B/DL8W/zC97T1dfXg9rb2GvjP9571hvgz9rP2ifU58f/x+e4w8CLtC+tv7C/ppO0Y64zqv+1A6xHt1+rC6+/szu2P7vPtMPMd8d3x/fWb9sT4E/ms+IL4/Ple+On49fjg99/4Lfv3/ej35/yhBZcKFxKUEOwQ/BN+F0wTCRN4FAcNtxAWDjYKpQuuCdUJ+QvkDjUJZgQYAfT9vPx3+mv2wvR7+eb1WPf6+vH58v7zAasDmALgAdv+owDDA78A7wR5BhwKCA7jDaEQghA0EnATEBLmEEgNTgmUCYUKugtnDRINrA7iEPsP4AxxDdYMqAx4DKIHGAbHA+oDagTjBZkFVQNVBzEEqwPHAaj9sP/0/hUAxvy2+o/5ovkB/fr7dPvm+hX9yvoA+0/77/Xp+H/21PSJ90f1CfSL89jy/fFr84nw5+3g7V/rX+sS6YbpnOnX6LrsW+uK7XXuVe5b9DHxGfBi8ebxG/YD9cL1evXt9o73i/VK+jH3h/a0+sb4WPrN+qf3l/fe/YkCRQiaD5sNRxLiGS8Y4xkaGCYU6hRTEVIPawwDCK4G9wQpCXQIsQWdBqsBuQH0/kL5Tfld9k71rfYA94f2GfmJ/JT+7wP3Az8DcgagBkIGRgaVBkEHxgqCDPILUg5rDzsRpxOoE04Rrg8cDmkMfQzrCrEL5QpcC7UNhQwnDjkNAg5GDrALcAqoBvEGpATbAn0FLARQBIIFngXpBkwG8gKLA2sDgwBL/uP6ivr4+gr6N/pK++n6oPtG+y/70PwG+YH5jPfA9SP3a/I7897xKvGz8czxQPOs79LvZu0w7dbtF+w17NLoYum859ro2+yy6qXsx+/c7hfwwfJ28bDxrvFw8C3yuPRZ8qfxnPdv9pX5TPqO9lf5gfdO/iwE9gjiDtkPLBd/GI4bUh0tG/MaBhU+E+cPzgm+BG4EgwcyBwMIIAPwAFsDFgB8/iz9/viS9ff0/vPJ8uD0pPVi+Kn+BgGvAnAEKQZGCGAKJgxzCVsJAgqXC4UO7g2IEHUQBhOWFIISnRUWE1AS9w9RDQEOkwkFC6EJbgnXDS0L6QuFDOgKAAvwCeMJyAh5B58EjAHdAuEBNQIgBLUDigTZAj0CyADV/rL9U/tS/Q/75/hG+Hz1Hvcd+GL5afm6+P73T/fT9wn1GfNI8irx8e8k8MjuQu6+78DtEu/37MnrR+0c6p7qyulT6M7oDOm96Jzsbu8x7iLzFfME88f0L/Rf9jT31feK9fz2cfb89I733vaL+BL5if1+AmYIYw7vDz4XbhpoHOIcShpOF7EULxSRDmgNygfUA3kICQYbBnYFpQJgAyYEPwG1/kv8G/aN9hD2NfRU9W3zHfb5+fX7ZwB6AoEEFwgXCFwJ3AhjBi0H8AYKCdUKXwsfDIwNdhHkEkAUvhOhEuwSThCYDrgMsQqvCj0K2QrSCmgKiwwNDcoNsA3JC4wLIwrgCKgGpQQ6AoAB6gJqAH0BCwI6AZcCygBYABgBZP/M/ML7s/nx93333ffV+F/5bvvQ+Yb6q/qd92n5BffE9K7zJvHb77Dtcu6V7ZPt/u547ADtKO1867Hrz+oJ6j7pJutp6r/pOu2m6s3uXfE+73HzZ/Fm8lf0ZfMk8hzyDvWv9I34kvZl9tz/IQVADG4SOBVfGH8dsx6oHYEe1Rk3FfAT7A4WBycGHwR4A58IjwWzAucC7wF+AfcDAAFq+nr7Jvfl9Dr1JPJT82z1V/jS+cz8/v6FAa8G6ggqCREIfQhfCJgJFQq7CHcJsgo2DVMOgg+7DxgSwhRVFJcURBGAELsPng3ODC0KdwqPCoILMQttCaYKCAvIC7oLaglQBicF8gN3AeMAFf+r/jcA5P/k/rT+9v7z/jr/mv3/+9z6+vkk+q34w/jG91D3Jvm4+JX4TPe29kv1m/PU8hDw8+8r7mDsGOz56TTp7Om66lHqDuq46CXpIOo36rfqGeu5623qL+2G7MzrAu9Y75ryNvMB9LHzpvYy+dn30PsK+nf+hgQfCR4OYg89F5UZux2wHxkfSCDBHEAb5xRREgsNywjICsUIrAcLBL4EAAOEA+8E3wBcAW/9cPtz+cP2RPTa8l72QPYQ+Kr4ivu2/9sAagSMBcoG2QcjCPMHgQjnBxAGSwjGCUkJWgo4DFgMMg+DEI8PtxB9DzcPOw6SDZ0LCAqqC7AKKwvkCrcKYwpICQMKeQiZB/8G0QWTBQsE1gEEAYYARgDK/h7+mP6a/ED92vuU+t36W/l3+nP4xPe/90n3N/f29b728/To9YT0s/I09drxD/BC8ETvde6i7TvsCOrS6lXpMOf36BHokedB6Yjo/uh06vjrAu3J7sDvMu6z78jvV/Ez8ynzQvNA88L27/Ve+9EB+QWRD/0RKRdfG+8efyHWITEkuB4UHmkakhQ2EuIOYQ70CsULKQgnB/0I7wNIBTMDg/+G/Ov5bvlC9nP07fGH8u30CvYc+Cn6o/2HAC8CIgQ0BeEEsQUmBgoFFAWWBbUE3AbRCU8JmAs4DR0P4xLEEwMTjBHaETYQjw65DYgLKgwmDNsKhQqzChUL0gwADRAMGgyQCVsIuAeKBa4DkwGF/67+f/7f/Iv7aPvT/NP8X/zN+8T51Pu8+wL5CPmj+E74UfgN9+D07PTI9HrzX/TY84XxBfE48ETug+0I7aPq+enq6ZTmYujY6EPmqekz6WDnfehn6YHoeep27DrpZe2b7RPsUfFl8tnyQfRc9z32HfrrAIwDlg33EXkU7xksHtYgwyGyJPcgqB8rHo4XbhTmEMsOJw07DGAIiwV5BjsECwXIAyYAGP2A+RT5Mva481LymPBk8tTyy/L29D/47ful/wICAgIdA3AEhwYBB3wGaQjfBgAIrAkOCZcMlw1WDmsR5xOAE5cSYhQeE88R+xDcDYIMaA1XCx4JvAoLCd8IIgvwCWQJwAm5CXgHfwVKBEQBzgASAAX95/xB/G76mPvl/Lr9sfzO+0f9Jvw+/In88vkc+zP7Cfig94D1r/Po9Dz1XPUR80zxDvGL7xXw3e/87AXs2urT6IDpe+ec5nnnsudW6rnnReiW6V/o/OuV61Xs5O3x7avuY+8H8VHxFfMb9mn9aANzCL4NghAPGLIbIh9JIdsgrCI6Hi4dshrDFNwUkhMYEdEQww4iCwgLYwmnB3AH/wMt/zf6svmv9qDxbvGb7tnuwvBm7oLxx/WO9/n6uPyx/u3/hACMAsQDiwVaBhIFQAWpB4UJzQwJDvMO5hJmE2gVzBRlFDwWeRNHEyIRIQ+LDukMdAwXDHYMbQxzDeAMHQ66DagM3guOB1sIrgQWAVv/P/wT/Rb6+veO9jz38/eL9zj4kfjT+gr5ufmH+PT2sfeq9IT1SfNb8kvxz+7v74nt2O1y7lHuEu6B7eTtnOs76/LpSOgB6Y/otubA5TvnCOZb5g/pmuf76FXrwOtr7XXvzPEA8TH1TvnS+iMFvwkwDMASXRetG24gsCTXIqkl8iaEIiUghxtKGYMVwRWKEVEL7wzpBiIHwQfsBIIDfv/N/0X8j/u39yLzk/Or8GHxeO1r7V7uKO+k9NvzJPfA9+P6Df/r/ioDmQJ+BL0EHgbYBzEHzQuhCu8NdBCxD20SZhO1FawUmBb1FdET0BUAFIsSqRArEBgOkg0fDsgKRwzPC8YINwh6B5kFdQPIAlwAw/0p/IH55/hN+ej3evdd90P40fg8+JL42vbL9i33Z/a19EXy4/FU8OPvI++c7cvsRe3U7AjrkO3M6y/rlO3M6vrqr+vJ6PjmO+dr5dbk7+Qo5KzlIOi/6oXpZOw57/Hw7fkn/g0CzgfsC+wQ2RZ4Ggsbpx+HIAghvSG2HtcdtBtUHTAcHhk3GIITyhMhE+EPyg1HCiUHPAMeAT79t/my+Gj2QvXA8m3wDO887/Xw5fCo8UjxVPA/8l/0LPXj9iX4ofmI/Bb+UwGuBBMIAQtUDUsQfxHkFAUXVxkQGggZKhqzGF0Z5xYGFe8TnxC9ELoNaQ3dC3wK0wubCd0IBQeSBh8GIAXRAgj/Tf2u+ir5sPcT9/v00PS79TvzBvSs85fzAfXU9JPyHfFM8eDvHPA57z/uGOz364PsCury7Mnrv+ow7fzqyup667zrC+y365jrGepe6KXprumW6W7r1+h56sPwTvS++a7/4QPtCQIQgxMsFzwZ0Bs9HTYdVB3kGGwZ8RqDGT8bqRmKGMgZrRnCGUcZZBbDE8ARbA7SClQFIgIBAJD8lPnX9Lzy2PG18YHyevFv8RrxpfFv8tXy6fIL86P0CfQI9cf1evY1+rr8TAAbAt8EkwhODN8RnxJ+FDIVzxSEFvMUSRSaEkERwhB6D2QOGA2vDQUOXQ5RDacLHwqnCLkHaAWtA7UAe/1s+zn5dfZw9fj0nvN+9BDz6PLI87PzVvRJ8zzzOfG57wXvfe127LLrVeuV6c/pruij6EvrWeyz7H7s9ezl7Jfu2u677V/t1+wI7FDqIuwT7ZDw/vWY+E797QFxBpYKRw/NEYcTShZNFlwWwxU5FdwU4xRuFfcV7BaxF8UYGRq9G4wa5RiMF4sVGRP4DjULUgcWBIsA4v15+w763vl9+LD5gPiS99r4zPcR+Nn3D/YB9VH0S/PY8+bzzPNM9Qv3QfoS/PT+9gLEBI0IOgvbCwUPYg+zDj4QBA/kDn4P+w6iDoYOIA/HDrgOwg5tDioNGw3LCloILQg3A78B5/9x/Mj6Pfc29ufzHPMA8gfxefJx8SvxnvC98Hzwn/BK7wjt5+zk6pvrJ+t06aPpd+mZ6rzqpOtH7K7s0O4Q71PuaO8R7qzthfFN8vf0Efjt+XH+AALlBVwI4guwD3oRlhOHFE0U9RNJFcYTThN4E1MRwBL5EWcSNBPdEWgTfRJHEqcSPBC3DjkN/Qp0CIIGTQTnASkBGQDa/oH90/x1/FP7T/wD+/D5ZPoi+In3rvf093L3SPhA+R75EftW/Hz+jf8QAncDQwSpB0UHigjwCQAKAAn3CVwKYghYClsI1QgRCX8IawlqB+8I5AUHBl0GtwJ5AoT/KP6I+8v5OvcY9FHzxO8x8Bbvb+5y71HuFfBq71bwVfEy8M/wuu4w75/u7OwA7hjsN+2D7V/t5e5F7nzwwfDd8/n2FPgz/OD8cABOA0QGiQjbCFYM5QpSDdAMZgumDnoMNQ+LDXkNwg9DDo4SthB5ERQSYhBSEaAOsQ7kC1ELkgl8B00IzASwBYkDDgPtAzsBMQIRAL7/aQDW/ij/Ev7K/H79iPz2/En+if2h/h3++/78/xoBtAIzAiME9AIwBA4FjgRjBvYEMAcuBuYFMwc0BYQHgAZXBpUGKQWmBdwDIwQFAksAHQAq/dX8T/ov+c738/TG88TvV+9i7gftOu0w7HfrKetw7Jzrme027j/uV+/e7ozwFO8W8S3wjO+68GXuffDU8G/16PZD+hj/2f5sBgQIBQyvDicOpBFdDw0S8A9aDlwQsQ1PDwUOiQ5SDv0NShHxDqkQfA9iDDsNYgmUCe4GJQWcBPL/bAInAOD/RQGK/60BQQCnAdH/W/+FAFz9m/6y+3j7OvzP+xT+/vze/7cBDAOhBiwHJgl7CrYKXQtPCvwJHQloCB0InAaDB4wGAwdtB3gG2wgWBycIEQcUBfQEpQDMAPH8E/sc+VT2d/Yx8yH0dvAt8IPu2+v57WjqXOyT6Szp9ukx6DDrReli69/q7esT7bXrgu2U64rt7uwS7kXxSPMO+Tf7Xf5IAm8FgAlHDAMNKg6HD5cQ0BDgD5QQmhCtEkQTmxOaFNEUYRaFFCgV8RL3EFEQYgs1CtUGYgWHBNQBvAFbAOwA+gDyACAB+P+a/4n9R/x3+8z5D/nw9tL2yvbs9pT5Cvl5+0n++P9ZA08EwgUrBloIJAmxCKAJcwhLCUAJ/Qk+CpIK2gzSC7YM9QxgCy0MZQuxCfsHxgUIBLsBVQAW/uX7a/pk99v1efML8u7ujOu16iLoMOlz56blm+W65ITnQugv6T3p4+ms6lTqwOo56SDq5+oW7CzuIPFV9WP4xPzzAN8EJgkXDZcNsg4sEEYPyxCQEFwQsxD+EZMTAxRqFsEWGRewFzoYhxbdE9ARywyoC/QJ4QZjBWQDSQPuAmEDbQIuAcUBpgFVAHf+5/za+pX6qfnX99v2//aW93v4kfpp+rH8Zf4pALsCdwItBQgFZgbiB/QGsQg4CFUJ+AnICsoLVAxdDQYNQA2LC28LugpICV0IlAWUA+IB3AB6/yj+Wvt6+S331/QM89ztCexT6WboOOgl5mfmKuX+5k/nz+du6CLoCemM5xzoX+Zl5mnn/ufs6rXtVfPo9Sf6aP4dAiMI7An2CzULkwxfDjENWw9SDnsPGxJtE80UQRULGHAYvhlhGfwWfRUgEv8QUg0RDKUKuQYfB7YEGwS6A6YC/QLwAQYCEAC//bb71vr7+cj4afiN9of3VviW+CT64vqn/AX+yv5nACwBgALuBLAESwWtBbEFBAjSCJIKjQuuDPoNkw1lDrENcw2cDKMLxAoiCHoHAQWkAwYD6ADRABL+yfyM+kH3Kfa68JjtROoH6C3oE+b35rHkkOVJ6GDoduuX6j/qU+m36AzpYOYU5+LmIOlv7ovyt/Yr+V3+yQJWB8ILhwqDC0cM5gxsDggNaQ6hD0YS4xWNFb4W3xerGBAa5RhpFncT2A9yDZ0LqwksCQYI8wY/B7cGyAW9BHECMgHM/5P9kPsa9+31u/WE9eD2mPXN9rP3f/kl+wz7Yfxg/C3+pf4o/xH/EP8GApYDuAZaCOoJiQtzDH0O7Q0HDjwN4AudCw8KzQjZB9YHXwi/B+sGDQX5AlwCLQB0/b/6SffB9I7yNO/P66/pm+jE6aPp/ehB58rloefl5uTnFOeu5SHnD+YZ58Xm4ugP7l7zl/nR+n/8kf6JAV0G0wekCDwJeAqbDDsOOhDAEaMU3BhCGsAZsRg3F0MX2BdYFm0TMhHzDtENEQ4kDqYNSQwzC5oIAAYNBGYAw/0S/Dj7f/oi+cj3RPYj96P4XPmQ+J/2L/aL9cL2s/cN+HH6uPus/fb+uAAjA2cEOAfBCPIJAgvNCr0K+wqLDBMOog6LDo0N2wzrDKALoQpGCfIHQgcLBOIBEv+I/Wf9nfq2+Mv0SvGO7uHqkelb6Evo1uiO53/mp+XP5LHlO+UP5NXjCuMq5GvlqOjh7QPyMvfA+W/78f6/AOICpARLBfwG7wg9DLQOxhB9FO8WnRlHG6ga6BnZGFgX+BVcFSsUHRPyEswSyxIUEu0QRA/KDLUKUgfFAw4B6v3W/Q/9xPt6+2z5YflP+Jf3CPe/9GH0HPOy8izzsPO49eP34fm++/783v23/oL/1gGHA+4EXgY2B4sIZwk+C8sLRgy5DCMMKAy1CuEJpgj4B6gH3wUrBYUDCgJwAAf+Bfyy+Lv1r/LT7wLulewX7Y/sH+yq64fpR+n65+vmmuUG5MDkBOXx6F/sFO7V8X/zBvZh+Hr5cfpF+rr8Hv+6Ad4F3wdhC5wOdxAFEiISqRL1EZASshIEEu0SPhPEFE0VyRWiFXcUahO4EP4Otwx7CvkIQgeiBX4EagTjA1MDkgFT/+r8B/tF+tf4bPiV9/T22PeB+Iv5+/kw+o36e/qI+xf8Uvxl/Sj+uv89AdYCuwNMBIkFXgXqBb8FCAUGBcEEiAWfBfMFwgVkBPsDlAKLAWgB8v+v/mz9BPzX+uL5U/ny95H3Uvfo9v/2mPZR9tb1ePa49S71svXV9MT1s/bd96r4Dfly+tT64/vL/Bz9ef1e/df9zf61/+MA7wHKAqkDAQRgBE0EYAQiBOgDdgQIBEcE2QQaBXQFcAVbBawEewTNBKQEjwQrBAEDbAJrAogCnAJAAvMBgwGRAcgBagH+AGgA7/8LAGkA+QBHAaYBQgL/AYMClAIpAn8CYQL4AgsDjgP+AwsE/wTVBNwE0wQ6BMwDtwMRA+4BAwLHARMB9gAFAX0APQAFAA7/9/17/Tb9LfwF/Pn6QfoO+/v6PvvV+tb6Bfu1+l77D/ts+p/62PpL+937b/zy/NT8rf1y/oH+k/+t/1v/Zf+z//z/5v+ZAGMALQAXAWABrgExAjQCzQGGAXMB0QBQAAMAkv8//+v+3P5P/h3++/2b/YL91vwC/az8APwP/ID7fvv2+zH8WvyH/LH8M/2Y/QT+Of46/j3/tP9MAC0BZgHBATYCtAIMA0cDSAORA70DaARjBXcFsAWbBWcFuQUQBr4FJgWJBDoEJgT7A1AEeAMSAzgDdAJgAr8B8AB9APr/xP+F/zH//v4B/wD/B/+6/o3+ev45/j7+4P1T/Tr9+/wl/cT92f1S/qL+kf4I/3n/4P/+/9r/eP9B/8n/SwBgAH8AqADGAE4BoAFnAVsBZQEdAf8AmAD4/9b/n/+w/4n/a/+e/5b/m/8R/6/+aP7+/ev9vf1w/Tn9Yf2F/bj9Cf4R/vT98/36/R3+Uv5c/pX+uv77/mz/0f9EAG4AsgD/ABgBMwFbAX4BgwF8AbUB4AHdAQQCHAI0AigCWgJgAjECUwLyAcMBkgFlAZUBXQFpAUoB9QABAbkAegBwAEEAQwAJAPn/EwAAAG0AgAAsAP7/GgAeAOz/CQAAAEcAkAC0AMYAlgDWAAcBAAGnACcAAgAtAFAANgD6/5//x//M/6X/kP/z/sD+sv5v/kn+D/7a/bL9u/3H/Xv9QP1b/Sn9E/1S/SP9Fv1f/YX9nf2//dT92/0Q/nX+tf6o/uf+FP8p/6f/y//3/y8AOgB7AJsAwQDeAOYA9QAOAQcBDwEmASQBTgEJAQMBCgGtAMkAuwCeAHgAagCIAGkAbQBRACAAFwA5AEYASwBkAEsAXACBAI4AoAC/AMkAwgDSAOMA8QDyAD4BSQEvAWYBTwFIAT4BSgFuAV4BeQFVATABSgE4ASEBHgHrALcApgCiAKwAfQBtAEwABwDf/5v/i/9X/yn/Nf8m/yb/Hv8C/8j+r/6x/pr+kf6I/nX+fP6h/r/+xf69/sX+uP7A/tj+1f4K/xT/Nf9R/0z/lv+m/7r/yf/E/93/7/8cADcAQQA6ADwAUAB6AJwAmAC8AKEAiwCsALgAygC1ALcAywDFAOEA8gDiAO0A5wDXANYA4ADkAL0A0QDBAKMAvgC8AMEAsQDWAMoAswDKAH4AlACdAHgAdQBTAFIAUQB1AGIAKgAyABAA5//+//D/wf/V/77/n/+d/5b/jP+H/6n/Z/9N/1r/Kf8z/zP/M/8y/zb/Of83/0r/M/8m/0P/S/8m/y3/Pv9I/2j/b/9z/2T/hf+v/87/2v+1/8j/x//h/+3/2f/w/+f/BgAZABYAHwAaABIADwAPAB8AOQAeAC8AMQAqAEgALABCADAAIgA3ACIALAAfABwAIgAiABkAKgBaAEsAPwA1ADcAPwBDAEsALgA2AFQAVQBfAGcAPwA7AFwATABTAFAAPQBLAEgARABGAD4ANgAaABYAGADl//f//P/f/wMA6v/b/97/zP/E/63/qP+C/3L/ef9m/3r/i/+E/27/dP99/2L/cP9t/1j/bv91/43/ov+X/7D/xv/P/83/wP/Y/+X/6/8HAAoAIQBDAEYAWQBTAEUAWwBmAGIAUQBiAHUAfgCUAIAAdQB0AHMAZABLAEsAOAA8AEIAKwA0ADgALQAtAB0ACgAHAAIAAwDz/+z//P/5//3/9v/0//z/9//1/+z/5P/s/wQABgD5//v/9v/3/wIACQD3/+r/7f/x//H/4//h/+D/4f/p/+j/4f/G/8X/xf+r/7H/tP+x/7b/tf+t/6X/uf/F/7r/tP+l/6T/u//M/8P/vP/Q/+3/7v/f/+b/1//w/xIA+f8NABMAFgAzACgADgAXAF4AOQD3/ygAKQA5AH4AmwBZADMAZgA9ACsAUABQAGIAWABYAF4AJQAEAEgAQAAKAFUAZAAcANP/zP/r/9b/FQAwAAcA4f/j//j/sv/3/9z/nP8xAOj/zv9DABsA4f/g/8v/ff8EAGUA2f/f/xcA4/+i//v/CgCz/9r/vP86AHwA7f82ABwAv//6/yEA1//F/2UA9f+2/2oA2v+1/xEAzf8IAOT/4v/r/2D/EwATAHf/RgAYAHr/wv8ZAL3/df8NAIr/pP+JAAcAy/+N/4//AAC//1L/a//T/yz/fP9qAH//E/94/3H/Dv+i/x0Adf9MAC4AUP/q/6n/nf/K/5n/if/W/4cARQBGAFQAv/9A/2b/YAD7/9f/vAApAGj/5P99AF4AdwBTAC4AegAYAC8AWwDw/wsA3wBWAfkAXwHoALj/mQDhANX/qP8eAGcARQCGANEAHQFdAZEAHQDl/3H/GwDOALEAsABVANj/RgCBAD4A5f+8/yUApABWAI7/vv9+/+T/NQFRAIP/GAAVAJ//kACqAEIAPwGf/3D+av99/x4A4QBMAOf/JP93/pMASQAn/23/zf4UAKAAjwBW/wkAAwGI/cf+GQDq/hsAOABZ/9X/VQCc/qT+8P5g/5kAnv+CAEkBnf/r/n//CwAyAcQAqf+2ACMA4f+1AK//f/4SAPAA4v9AABf/z/4M//b+a/+A/23/rf69AdUA1/09AI0AGgBeAJMAd/+h/0cB+gCcACsAYAAXAL4ApwCn/0X/Yf42AAMBdQDy/xf/tP7F/4cA6v6p/97+Hf95ATkANQBRAR8A7v47ASYAmP8nAsH/dv8z/xj/GQKmATv/5f5Z/9X/jwHl/4X/fwCQAJ4CJAFJAu0HsA2IDaAHigGX98Tzf/nzAJcD9f/T+wb7Uf1hAb8GE/8Q+Wf/nQDgAhADyP+7+PL4uQAGACgDTv/c/ugCtADsBHH93v3LA8cBjgjvCJsIBwQq/Tf9bf/fBY0BwP6k/a7+IAId9sL/IAhk/vz/B/lyAE4GmADyAbn1Y/smAp/86/xn/REEKv5oAfYCrPqL/2z6e/48AnH+zvsO+jwFOwDHAAkFefkc/sH+O/uRAJj/5/4t/23/hgLu/8oBQQYg+uX6sASM/HoAUAHm9e4A7QSs/PL+zvoe+9z9G/xMALn/Ufs6+YT/u//E/S8Cr/bX+O3/wvtpAzj+VvmD/VX/tARs/Xv5Zv14/RAC8gAp/Ej6p/sgBRwH6vty+Tj/Kf+Y/q78bv6/ALb9SAMh/ff2ggCy/9kBhPxg9+8APABvACr8zvuLAB/9vAA1/zP/+fw1+28DCf+w/mYAEv2qAEcCkv6A/dUA/P7WAOYB6QLZAgr6uQArBfL/xfyP/6UEMPxIAwUHO/7hAJX9vAJpBGD62PyNAab/KwJVB7v+rvrI/8ABigafAnD6svkL//8Ibgij+sr7zgXrASoCY/+3+joFCQV6ACMFs/+2/KgFCAf7/6f7HgGABPAB5gRJAFb91QIvBukF6vxu/RMEGQQBAlgAFgHk/3IDQAISAK0BdP4ZANUBcgWkAf3+3gWCASIAZgFRAP7/1gMsB6YAzv5I/dYCrwjCAjz/lf5tA10D9AJLAmD9OABTA00Ed/8pAXIDX/3/ATMEKwGe/cz8ugBrA1gF7/4A/YcB8gAuA1UFBv9P+/8AFAMZBK8Bp/z2/3ACLAVuArD6l/0LAhEB6AG+BI7+FflOAoUFwP/v/o3+WgDxAAcAewLr/Xb8zgD0/74B2wC6/fz//AD8AWsBc/xL/oQBF/7x/rz/Lf/O//z+cQHZAWgAPP/w/uj/xP9pAb0A2f7U/QoAyAKNAIIAXP91/Sf/nQGhAfv+Qv3U/JcAYgOCAaT9pfwu/sf9ggFwAPT9VgGY/6z+3wAOAIv8AP8iA40AxP4f/zYAmP9TAs4CQ/6CAW8CMQBR/fr63wGcBU0BEQD/AMn+n/+JATwB/QAG/jf9Nf+GAI//oQDmAQv/+v/F/iL+UwDf/tEAuABS/rf/Bf/J/rgAZv3P/A4AzfzE+2n92/4n/4n/JAI5/nv+Iv91+lr+SQDR/FD8Uv7y/4wBEwIV/xT/QwCK/+r+Bv7Z/rEAUAF5AuABZvwQ/VMByv8w/qP9a/80AMP+AP+X/+b+Qfz2/pcBq/1u/gcBPv61/XX/iv6Y/7b+eP3v/jP8+v1+AC7+4v7o/uv/ggA8/vL96v4o/7T9Rf3o/cD//gCC/wQAjwDsAVIC3f9iAFkANgBW/2r/pAJaAYwBdQOFAiwA4P3p/64A9ABGAcX/rgBbAOf/FgBa/xD/ev8+AH4A0P4x/FX/JQLsAhADKP7z/Rz+1v1sAZ4A5QBaArYAJQAfAskB9P/yAO//ugBsAvf/bQHOAxcDsQQrA1UAvQFqAJMBOgL//2QDbgOaAm4C5QDRAf0B6gJ3ADv/cwBl/8QAGQHZAZYBfgDOAW8Bd/9B/t3/C/95/mL/3//BArr/z/2J/7v+4QBFACT+Vf+2ALcBdgCd/nD+x/9pAf4AM/9b/68BLwEK/0gAFgCs/Tz+kAByASz/H/8gAHj+bP51/ZT+7f+C/dT9p/4P/3D+R/3V/MT8c/6j/Lv8nv6s+8P6Lvyl/Y79oPsq+z39Yf89/nr8C/uT+4v8NPxf/gH+IPz+/ED9n/uL+nH8xPxE/VX+lfzc/On7wfsw/uP9Hf8G/6L+mP9b/uH/zP/1AGoDMQBVAUwCxAFABB0EsgUTBlIFtAXEBQAH5gZgCIsHWQc7Cq4IYQiGCFMJPAooCbEJPwjOB/8IyQmcCCAHYQiVBiMG5wZeBRIF3wTjAyYDrgNIAskCbQOnAM8AV/86/sv/hgB/ABv/fv/4/9v/Zv/3/Vr98/5TABr/1v9x/93+g//r/vsAEAC2/RH+2f0q/lP+TP3L+9P7CP2L/mv8cPgy+Uj5ZvgS+Df2i/XW9cn03PMK9KPyffHP8ZDyt/L78Y7w4+6d8Gnx8PAv8eXwjfFn8IHwZ/IC82rxfvG89BH1GvSb86H24Pmt/tsDwQItBOgCIwRbBtEEhwm6CY0Mlw7UDY0QZw4QEO4PbRHbEWsNow35CiAN0Q3HDZ0PDguZCp4IeQfOBrQEnAV5AyADIAMRA3UCDgEfAQIA3/9B/6v+p/wl/Q0AkwAcAlgACf9w/6H/TQEkAhQDzgOoBpQHOwfaCGkJPgsSCwAL3wy1DGEMQwy6C0IN7g4YDT4NTAy8CTcKbwglCP8ILAeUBc8ElAOvAWsAVf6j/Q39I/yX++L5RPrj+GX4Pfk496T2qPZ69/j2vPZ+9+L1MfbB9ev1uPbG9Iv16fWy9aT2x/QF9LbzRPOt9KbzDPOg8vrxOPMt8o7xWfBo72LwwfCy8RzvJu4G7snsVO857wrwFfEG8fP0hvj++ib80fxl/jwBXwPBA9MDDAU0CloNGw8pEJQPsBGDElUT8xIREm8S4REJE3sSKxK5EXIPKw1xC8UL5Ak2CLwFxQNTBAUDdQKG/wz+Xv3E+qD64Pdg9vT1uPW795v3IPgl+K/3cPjT+AL6Nftv+yv8HP6BAFkDjwSoBboGkgcaCokKwAv3DKAN0A8+EHURRBFwERkSYRF6EkkRoxBeDzwNBg3KCzoM6wkbBy0G0QNmA1MBhf9u/+j+N//Y/bb7sPkj+b/5ivl6+A33uPez9zP3x/fH+Nz6JftI++n6xvk9+ur5lflb+YX5ZvlU+FH4/vef+DD5jfeK9ZHz7vEr8mfztvM39Ojy0vEn8T7v8e8L7x7wWfHM7g3vnuy066vsQOyp7ovv2/Ba8bHzMvmt/I//+/9IAWUC4QIeBOMEUAldDZ8QuhLWEtQT8RT0FQwVOhXmFJETrhL3EDoSthELEPYO+Ax6DL8JKgbUAgIBJAH7/27+Nfxo+xn73flS+C31wfMl9C30wPTP9PL02Pbn90b4Ifmw+Tz7dPw2/UP/KgI+BPoFXgfLCDAMvA0JDyUPHw7MEBYRtRF8EjESbRS7FBwV5RM4EooR0w/KDj0M7QpkCUgI4QczBnAGPgTYAUD/F/wq+0P5EPkc+Bv3hfeJ9nj2aPXN9Nb0WvQv9U71u/V/9qX27/dZ+d75F/oR+vX6Evxy+076vfk/+n/7CPwP+8z52vjE9xb3GvVb9Br1CPVQ9gb1S/Nh8z3ycvLx8ALvn+5z7R7uu+2r7J3su+vW6zHrKexu8Pv0dfop/QD+Yv/6/uf/pADFASYGdgk1DfEPVBD/Eu0UixbgFzQWDRWYE3wSvxLAEi0UIxUIFTcU0hHjDiwLvgdfBdYDDwMUAsIABQCe/8r+ZP3Q+nr4YPav9BT0R/P58x31F/YU96v36vgO+Z75w/pd/MX+OwDwAUMDZAUkCHgKUQxPDSEP4A+yEMwQPhCoEVYS3xOSFIIUDBXGE/kSHBEoD0AOygzLC+QJ2Qg3CIUG+ARKAlYAs/5H/Ov6//i994T36vYb92H2nvVF9VP0xPMq83Hz+fPM9Pb1jfYU91b3ZviQ+FD4ovhb+Az5tfj+9x34Jfhm+fX5Qfni+OX3C/fn9lz1uPTX9K70Hva99Tn1KvVg8xHyhPA572Dv7O/g7gruO+2o7NPtcOwV7urxlfUo++H6cfqn+gD7eP41/q3/bQIABlsLDQxnDckO+xDcFF8U3xNqEvsQqRJTEjgT1RQZFeYWvhVNEw4RBg0nCxsJkQfDB/MFIQUJBKMC5gL8AJT/zP2++tv5Tvfw9fv1PfVb91j3jPfA+J73bvn6+Xj6g/xm/Jz+bf+s/+UBtwIQBp4IEwmWCs4KnAxoDhkOHg8IED0R3BJDEjQREBH2EFAR3xAHD6kO/w2EDLML8AiEB70GFwTvAkUAE/66/bD73PqH+U/4jvgY99j1UPRq8/zz4/Mo9OvzA/Rg9Cz0XPQk9Bb1Nfa09kD31fbu9vX27/b998T4cfnw+Xf50fkC+oP5ZfqL+Yv5CPrs96T4Cvi598n45vXu9WT1v/Ou9AbyDfF28X7vtO+Y7X/sUPCs8qb2+fe09uT4qvjm+fT5ifi8+8r9dgFvAxoD7AVjCHEM6Q5EDl4OOg66DocP9Q5vD3sRbxPDFTQVrhPZErIRXBLKEDMPnQ2+C9kLowmaCGIHQwbEBuUEVwOfAAv+9fyQ+5/6TvmQ+Dv4kPj1+Ob4APnT+Gj5Mvpk+k36VPqr+lL8A/4Q/4sAkwHnA8UFtgaJB6gHUgmrClYMBg2+DJINYg2cDvsO8Q6rD8EO7w7IDUwMRwt6CUYJUgisB5IGVQRUA1gBXQBf/6P9a/2n+4X6ffmb94T3ePYC9t/1C/WB9Un1/fS19DT0cPR79CX0xfON8/3zFvXr9QH3tfc0+Av57vgA+aL4PfiR+Pn42/nn+q/7g/u++wb7qPrz+nv51vnV+Bv42fjK9nT2Y/UF9NL0vfMG89/yR/I79H72QPfa+Nr4avnt+gP6rvq7+r37oP5Q//kA/QHNAx8HpQg1Cq4K0wriC6wLiQsfDMAMFA+GEPwQ/hFAEXMR2RCmD7kPTg4dDvcMjAtBC5sJSgkECPYGBwdwBXwEoQKgADEAnP5b/TL8efqP+kL6H/rH+s/6APxd/D/8FPx/+/n76/vt/Bv+Xf97AScCdwNFBNoEQQZrBhcHzQczCBgJgQnzCfIKpAsEDC0MaAvtCmoKbgk2CWUI6weaB/cFCgV9AxMCugEKADr/DP5j/Av8avp5+cn4h/eQ9+r2Hfab9aD0bfTO9Hb0dvRV9LnzX/RC9Hf0HvUu9Zn2L/du95/3gvci+JH4KPlD+bT5JPqW+pD7x/tg/MD80PzH/Ir8B/xS+8r6wfnw+X75rPh++DD3Jfek9or1D/UO9av28viP+iL6MPr7+fD5uPox+fX5ePsP/bj/O////+8BRwR/B7YHqQcSCLMIDQqHCWMJPgqeC0gOiQ6GDhsP/A6YELEPTw7FDRkMwQzYCwMLEAvdCWAKPgkICBYHDAWSBBEDBQJzAcb/LP8P/m79uv1L/WH9K/39/Ar9tPyt/GH87fwm/Vn9/f2T/dD+g/9SAOQB/AGAA9AD4wOABD8EJgVRBYsFggVvBfAFDAYhBncFYAUDBSUFvASfA2MD8gE0AjIBzf+n/+T9xP4E/vX83/zt+lv7ZfqH+WD5A/h5+Bn4Avgo+Lr3e/ii+Av5b/ki+Z75t/kW+i37U/sx/L386fxO/k7+/P7C/87/YAFjAYgBmgEXAfkBnwGzAVkBxwBZAYwAvwAXADb/y/9g/hH+ZP2++y388fp0+gP76/mt+hf60/gx+ZL3ivci91T23/d+9734tvgO+ML5o/gb+gP6ZvkO/Cr7Ef2Y/fn82/+M//AAvAFcAXAD0ANRBGwEJwT/BOcFbwaSBvoGSwcUCBoIvAfGB80HhAg+CMAHQAe1BvsGlQY7BvMFxQUGBtQFdwUQBeIEtQRUBPEDeQOCA9MDzgP1A+IDuwMuBBwEDAQXBMMDEwQsBBAEJwQQBB0EYwSPBGMEcARIBCMEOgShAy4D2wJuAmMCIwKKAS8BvwD0/5H/p/74/Qz+Pf0c/c38J/x7/M77iPtw+9b6Pfv/+qb6ofpo+tL6+/oL+1b7p/se/FL8b/xt/LT8D/0m/Wj9XP2p/QX+9v0t/hP+Vv6L/mn+i/4r/kP+I/66/aD96vz2/NT8a/yP/Av83vuo+xv72vpi+t35hvlY+Rf5JPn9+KH4zfi2+OH4Pfkb+V/54/ka+pX63/ri+rX7Qfzc/Kn9tP2B/jr/zv+RAOQAlgEbAvMCewOwA0YEUAQNBXMFdQUUBiQGogYcBwAHFQcSBwUHMgcxB9sG3wazBowGlgYgBgkG4QWyBcYFZgU8BQ4F1ATJBG8ETQQtBOoD+wPJA5oDngNoA38DogOaA6oDsQOoA6cDtANhA2YDWgMBA2cD/wLrAmED+wJjAxADYwJvAr8BnAF5Ae0A7gDHAHUAIACG/wj/8P66/or+N/6x/Wr9Cf3c/I/8PvxF/Bf8MfwG/Lb7z/uR+7L71vuO+7L7k/uZ++b7rPvN+8r7w/s//Df8bvyV/HL8u/yT/Ij8lPx3/LL8xfzC/Mb8vPyd/K38nPxP/Ez8Avz/+wT8yvv0+7z7s/u++4v7jvtl+3v7n/u1+9374/sb/Gb8nfzf/P38CP1h/Zr95/1e/p/+PP+n//T/XQCIAOgASgHHARsCdQLgAgYDgQOoA+0DWQRoBNsE/gQRBUYFRgVwBZQFsgWhBaEFlwWWBbQFjgWNBWkFYgVeBS8FIwXjBPoE3wTDBLwEUgRxBF4ETARcBBsEHQQBBP8D6wPLA7sDhwOjA30DZwNhAxMDFgPoAq0CjwJGAhIC5gGyAXEBOgH1ALkAiAA9AP7/sP9e/w7/zP6K/k3+Jv7Y/bv9nP1h/UP9/PzJ/KL8evxe/EP8K/wS/Bv88vvj++T7uvvY+9375PsF/BL8LPw//GH8Wvxq/ID8jvzU/OP8Ef0+/Ub9fv2m/cH90/3l/er9/f0M/gD+Ff4P/iP+M/4p/h7+A/4W/gf+Cf7v/cX92/22/cv9t/2B/ZL9ev2G/Xv9eP2K/Yn9qv2p/cz92v3x/S7+K/5O/nf+mP65/ub+Dv81/3X/f//E//3/MwCXAKwA6QAJASUBXQF+Aa8B0QEjAkgCZAKJAo8CzwLqAhYDSQNiA4wDmQOeA5MDmwOuA8YD2APaA/EDAQQJBAkEFAQGBPoDDATnA/ID7APgAw8E8gP0A+cDvgPBA64DpgOOA4ADYANUA1UDOgM0A/AC3QKxAmMCTwIDAuoBwgGGAWEBEAHXAKkAcQAxAPz/qP9t/0P/8/7P/n/+SP43/v796f3F/af9nv2A/Wj9S/0s/Sf9Nf05/Tn9Kv0t/TL9N/1k/Vf9dv2g/Zj90/21/b/95v3K/Q/+B/4R/kr+Qf5s/nH+a/52/nf+c/50/nr+b/6N/oH+c/6C/nL+g/57/mn+Z/5b/mT+Z/5p/m7+bv5+/oH+g/6V/pr+rf6w/qj+xP7V/uD++/4R/yH/O/9M/03/Xv94/4v/ov+7/8v/8f8JABQALwA0AEwAaABwAJAApAC/AOoA9wAKAR8BLwFWAWcBeQGZAa0BzwHwAQYCHgI7AlsCbwJ/ApECpwLDAtMC6QL7AgIDHwMiAycDNgMtAzoDNgMrAyoDGAMXAxED/gLvAtoCvgKnApMCdAJYAjQCEQLyAcsBsQGHAWEBRQEWAfUAzACgAIAAUwAsAAkA3f+//5n/bP9W/zL/D//v/sz+vP6c/n/+Zf5L/jr+Hf4S/vr95/3e/cn9u/2o/ab9l/2N/Yn9b/1x/W79Xv1o/WX9X/1e/Vz9Yv1f/V79Wv1c/Wj9bf1w/W79ef2E/Y39kv2T/aD9qP2y/cD90f3e/fb9/f0M/ir+MP5Z/mr+hP6c/pr+zP7b/uz+C/8h/0L/Vv9u/4T/mf+x/87/3f/z/wsAGgA6AEYAUQBnAHwAkgCfAK4AvQDEAM8A4ADzAPkAAAEZAR4BMwFFAU0BXQFfAYIBgQGPAacBrAHJAcEBywHXAeoB+QECAhYCEAIlAisCNgJFAkUCUQJZAmECYQJiAmcCdgJvAnUCdAJyAn8CZAJzAm8CXAJfAlECVAJAAigCGgIJAvcB6AHWAcIBsgGfAXgBYgFiAUABJQH/AO0A3AC7AKgAeQB5AF8APwA8ABIA+P/Z/7P/mv+O/3H/V/9J/0b/Nv8b/xP/9v7x/tL+0P7R/rn+vv6d/qT+iv5//nT+S/5o/lj+Uv4+/kL+T/4z/jf+G/4u/jv+N/4x/hf+OP4p/iL+Pv4r/kX+TP4y/kD+MP5J/jj+GP5b/lz+bv5w/oX+s/6K/p/+pv6q/rb+xP7k/vD+8/7w/hz/LP85/x3/OP+F/5X/lP9i/5f/s//M//X/5v/4/+D/8v8UAEQAOwA+AEYAQgCIAIoArQCWAM8A8gCpANMAuwDeAOEAzwDyAP0AJgEoARkBFQE2AUcBPgETATUBWQFdAVgBFQE9ATkBRwEzAS4BZAEaAQsBCAFQAUMB8ADxABcBMgH5APYA4gAeAe8ArAC3AJYAwwBzAK0AvwCHAJsAaQCiAGIAJgA/ACwAKQD7/wMAOQAOAP3/8v/c/wMAnv+N/5j/sP/k/5j/6/+b/37/vf9v/4X/R/9u/1b/F/9g/1D/VP9L/1j/Uv9N/07/H/8j/wX/GP8R/yn/fv9V/0L/Ev8Q/yP/A/8v/yj/Kv86/0v/Iv/4/hr/Df8x/97+1/4p/xv/Yv9I/2//gf80/4L/Z/8Y/13/bf8y/3v/iP+t/xwAsf+W/5L/Wf+i/5b/ev+m/47/pv8JAMX/1/8uAOb/HAAGAPL/FQAPAJwAhQBzAKYAYAByACcANADLAGgATQBqAFUATAD3/5gAAQHLAKkAvwD/AHgAjQC5ANgA8wC3AL4AaQCPAL0AuAB+ALIA6QB2AMsAjQC8ANsAGgB+AJsAZgDeAO4AlACnAIUAXgB5AGQAhQCoAEMAbQDXAGkAnwBHAAEABQCf/3MAuABEAKj/CgA4APb/fgBwAK0A8f8hALUAzv/W/+T/MwB4AJj/FP85/+b+Pv9H//L/cAB1/9L/Yf+l/8n/Ov/L/w4At/8gAHUA1/6y/2L/PwBGAGP+h//T/qEA+/8EAcv/gv+8ACL+7gu9DL0HoAUUAF8GwP4+/Fj5I/igAEn9oQCD/7IDxwUQAPv+bvkU/iH8dPpi/Iv7rACB/zsAt/+2AEwBhP54/ub7mv38/VD+ZP7m/g4Bq/8KAhwBdgHdAdr+vgD5AJ0Bzv+8/bv+Sf+cACP/BP+z/90ANQCW/c39oP0OAJUAaACmAEEARAHh/mD+U/yX/NH+xv32/9b/QgGqATsAkwBg/xD/V/3m/dH+hP4a/wIAiwElAi0C/wBOAV8AQgD6/2n/FgEWAAAElAWdBFkFJgNeA/YAY/+a/dj8x//H/oz+Gv+GAN7+Afzv+7373P1B/dD9Zf7b/WX/lP4M/039pf0f/1L90v5B/tv9k/1M/Tz/IgCOABEAnAHjAW4BLgHzAAABAgAHAE/+ygLBBCADFANf/dv/rv+X/mwCYQHKA7kC3QDn/wX/Sv+B/uX+2/3xAFwAwP6QAH3/lf+9/rb+2fzE/YQAJP95/7v/YQGNAaD/6P1I/2YBYAByAY4ApACpAKAAOwF8/kf/wf5K/4YASP9xAPv/ZgHGAMf/VQKYAAoA2AByAIkADQAuAEEAPAB5/zT/a/98AAUDswIzAfr/+P/+/4v+zf5V/+UAeAH9/9P+Xf+ZAnADqQLKAgoDFgK1ACEB6ABcAnMECgOJArMDFAODAbP/DwBZAqcBUP5P/V0ATwBs/23+dPwOAK7/vPx8+6/8nP/a/GT92Pwt/fz/fPxk/Rz+ZP4O/8P87P7+/gD/RQDI/qEAxwHT/wEAlgBNAB8BMABR/0ABpAF1AfUALQE6Ag0BZQFMAOr/swGCAMkAcAArAdIBJAEpAfj+XgD0/07/uP+x/ev+YP6p/on/pP/d/9r+0v51/rD+5f1o/pb+8v6W//L95P5//1sAHACv/2H/6f6BABQA1QC/AIgB0QGAAJoBnQDAAQYCMADx/7v/EwCSAJQBBwFHAewB2AAbAPn/Cf9l/nQA6v/1/zcA/f0W//j+nv/K/+r+dwCz/88AZv9k/QL/mv7c/7//Cf8BAHMAjP///tn+kf05ABoAsv7M/4r/DQFoAVwAIf+p/1T/tP5VALj/IACsAJUArgAhAToBpv+a/9z/OQBcAPz/KwAEAaMBvf91/on/5v8iAIX/7v4XAZgAg//a/hn+bwF8AKj+PwC5/oUAuwEl//YAoQAgAJQAbv99ABIA1wHqAMsAmgKyAIoBpABYAvsBbwGxAav/BAPWAawB4AFaATgCiAL3AXH/JgJWACkBCwF6/p0BkP+6AFYAJwC1ASQAuP9E/gf/dv+i/8v+w/+mAD3/8P/5/j8AhgBM/or/DwC6/5kAgv9hALoB3QDCACUApAACAB8AIP8EADcCjgD4AJX/6QB4ADwAjQDB/vQB7P6g/7X/2f3CAM/+fP/W/q/+U/4r/A/9QP0V/hr+pvyp/H/9bPx3/RT9lP2v/rf7WPy6+xX94P3o/ED+Pf6AAKT+DP55/0P9Lf4l/sj8uf7R/xr/2AAPAZH/sP+A/8/+rv/s/yn+vP/MAIMAHAFFAS8B3/+7/9b9BP2e/gD+Nf/V/4r+Yv+d/2H+5v3n/Qv+5/1D/sD+FADuAJIA7QHDAacC/wK1AdYDWwQNBZcF5AS3BrkHLgeKBosG6wckCUEIUAi0CEIIwQkCCWcIxAlfCKYHYgdLBskGTQZwBX4FjQV2Be0D6AImAhUBwQDA/xX/EP8V/4z+hP3Q/JH89fzT/CL8V/vK+jv7Tvuk+m377PuA+3X7wvmx+Qf7gvph+iX73PuI+3r8cvx/+vT6iPlU+Fr6kflb+bX7YPqz+RT6Lfim+GP4xPj1+LT4cvlu9kv4wfgS9/34XPf394P3b/bO9Rf32vpi+lH9Bv05+yT93Pxi/vP+oP8dAc8CdwQqBMkEpQYMB6MHmgkuCVQKbAq3CZoKPQvvDPgL3w1iDZsMUg3DCVQL2wqbC9gL1wkYDEYKDgq+CC8HWgdnBioGcgTgBbYESAPvA5UCqALGAeQAef93/5X/1f2O/vD+jP5u/+j+w/zz/Nn86/vU/Fb90Pzj/F79J/z++6P7ePpl+zn8//tV+/b62Ppo+737LfuH+cP5ZPnd9yz4a/YR+JL3pPYo9izzP/W881D1dPXx88XzdfCn8ZPvnPEf8Y3ywvTR8f/0O+478hL22PUo/oH57ftj/af9VgB1/uUCcgOYB2wLsgiuCfQLGwySD9ES4Q/NEcEShRBxEZYSnxBOEewVohJcE9ISCw1+D20OSAwtC2QJyAidBncH/gTVAvAEqAECANr/ofyi/Lf9t/yv+9H7hPr/+qr8yfp3++77xvzp/q39DP6//p4APwOXA0kDLgRIBqMGTQixCN0IegpKCtAKggrECrYJUQlFCogJRQmfCM0HDgY0B9QDqgDkAVX+tf8H/sP6jPr7+N/3WPTm8zbyzvFw8kfwF+907g7uXO3B7fLr7uss7Nbtt+yb63zukutg8KLuqexE8D7tqfJw8d7xlvNR8AP1Z/P186r4mPZC+YL6GPiq+V/2AvpL/6EELQnwAqIGzwQTBjgIUwNrCScLihFGD3cM3w14C7QSiQ+/D5EQ0Q3MDiQMbQ3jDAcNBg0NDZwOKwwoCCMHTgYvBpcFXgE7BFYE0QRABIz/BQIp/zsAsP3L+m0Avf1mAej/u/x1AtH+JwCTABj/5QPdAroFMAbhBOEGpATVCJgKmwnKC6UKXAzeDJ8L2gskDOIOcA3aCzALogijDCoL/gjfCbAGnAgdBR0CJAK+/y8BsP7U++D6e/eV9Uz2mfMZ8zjyDe/L8M3uzu6c7Yvq4+pj6YDqj+nJ57focepn7Mbrk+tE61XqTO6p7J3t3fBT62Pw4O0175L0AvEK+DH0ZfcV+Sfz7vYm9939DwUXBy4EWwcdB3kHpwo4BzkN6w1OEkoQcw4YEb0OaxVlE88V3xLRETIQ5gqoEdsLKg+RD2UM3w9cC08I/QXaBs0FSgWLAZsA0QBrAFUB2vw2/4v8WvvJ+m34pfoJ+079TfyK/pb9jf2S/qT9KAIrAscDXwShBEYGTQjRCd4LEBBrDnQPBw4gDXIPKw/5EOEQBxO9EoUQjxDzDdcMHg7MC3IKLwtqBR0FRgR/ACwCv/04/BL7g/jS9ozxsfDq7iLv1O897ObrVux+6ZfogufB45Tn5eYW5Q7om+Zg6A/qNepy56fpL+r46JTtU+o/6yDt/O6F75zxxPOh8K73LfZ59bz1zfRR+UT+XwcCAwgIvQg6BDsMagfcCFsNIA8oEikSURAgDxMSRBXNFhkUuRSiD4UOhhA6DAgQhBBbEVQRTg4fCvAGzAfEBeYF/QOyA28CHAGqAbT+yv/E/9L9tPyk++/4QvqC/aL8/f50/7j95f7a/zb/GAGZAhgEFQZuBiYGvwQcClgL5AxkEJcNnhCFD5cOTA5uDsoQcw9ZEj8Pfw4ED2ELOQxbCYkIWgdgBTgEfwLgAQL/w/2p+pz4KPYo8/ryjfFs8WDvrO727HHrSupY6EPpo+eo6GXmbucm573lg+kl5u/rvOm86bLrxuac7dfnnezf7ETttfa67oP2VvLu8n35QfGM+en5wP/dBQcEkQinBvUIvwhdB0MMFA78D6YSCRGTEuUUnxMzFdcUNhY+FOcRThHVDbQR+g4RDnIRPQ41DyIKwQeMCJ8FNQYwAC4AwwHT//0Bhf2w/rn9dvzK/EP3pPvv+Lf5avyS+ar+6Ptc/vv+XQBTBHb/5wOaA54FqwhyBqAJ+wqmD44OJw8FERcO5xHZDr8N4RDFD/kQGA8zDxcPDw6SDQgIvghIBygE8gT1AFwBTP9Z/Ir5m/U49ojydfNH8jTv4O8K61jqPepW6eLpE+hc54rnruYZ53PnAehv6p3n1uf25+nm/eoc6HTpC+z76hTvgO0d7tXypvHx8vXx7vCI+PP7TgAVBPUCrAaCBmQGAQkmCWEMVw9KD2QReRFXEGcUNxWAF1QZ8RPZErcREhDdEggRUxBWEycQnhCyDVkJFgwBCNUIbAa+AbkCf/+3ACAATv/r/mf+Af0m+6v6pfcJ+0j6qPv3/Ij6Af+f/u0ARAFFAWQDNgORBIID1wW0BzsLqQx3DXMO9wxIDxYNqA7NDkcOQA8IDfgORg0cDnINjwsaC7IHIQV/Ag0C6/91ALf9Nvuj+Y31ZPZv8pzzUvFT7lnvgOmr6ybqo+nf6zLpB+og50XnDemj6NPqgugb6GrqGOjt6YLpDuq37u3tBPDr7eru9fGY8aH0X/Fj9Rb61vwJAtIAfwTpBr0IdAosCTQLOww3D+8QRQ/YEEYSkRTqF/IW8hW/FM0SURIXElkRDxD0EI4Q9w98DqgL9QpWCvQJ9QbEBEUC5AA+At//2P40/dz8Tv7n/AT8gvph+6v8Nvya++j5b/vB/UP/PgDJ/ywBggPjBBQEpwSpBcQHGwscCgALXgsNDK4NLA7NDloNeA66DKEMmgxOCusK5AnYCj0JiQdjBAQCNANfAdD/X/w2+o34yvc/9Xbz2PMQ8ufxlO6B7WvsMOyz6//p0urW6VPq7+g06prqa+wy6/LpMey+6UTugOlZ7KjuYOx38zDs6fJi80vxRPZr75348vqz/M4Au/22BSwIXQhVCeQG+Qr4DSENVg3zDOIPmRIZFPUTKRTuFfsSahN+EDoPLxDEDIwPGQ6YDnQODwoDDKsJCQgJBwICLgOCArz/cP9C/CL+L/4x/dn8vPpK/UD75/s4+rj5Rv2S+1T/9P1S//QBQwCHA1AD3wSQBrsGYQgHCZkILQocC4gMTg+eDCQOow1tDBQOawpZCm4KygpjCg0JmQcmBR8GpAI/Adn/fPwg/cf5/fhr9hP0XPUI8n/zS/F37TTv3exL7E3sPOkb6fjq4OkE6zvrW+rO627qiOtg6l3rV+yU64buWe0g77juGPDe8QLz/vT+8Sj4gvmP/fEAPv0wBMAEjQgUCnIHpgtYCwEPZQ5rDbwQuBCcFG8U+RNdFWoTCBQqE7cSdBGoD+4PIg9FEToPWw2GDRQL4Qp8B9AErgPMA+oCdv8M///8wP2L/hr89fwh/Yv8PPwn+7762Ppv/G/8Uv3E/+D9yv/xAO0B5wSmA74F2AXTCHEJZgecCpgIgQwIDWgK1Qw4C/YMIwxyCkcKVAnZCekHEAheBsAD6gI9AJoARv4I/KL6qPcx+WT1HPQL80Tvr/Kt7rLtRe6y6rDtzuqL6c/rDeo27LXrxOoY7HLp/eqh6q3q8O0360Ltu+3g7AvwH/Bh8UHzIPN787T2Hfox/8MAKgJBBIYFjAqAB30JKgt/C/EQWg0CD18QmBLkFaYUDhY8FMcUOxRTEhASjxAkD9MONg/jDZINfAtICr4KIAlhBg0D8wHmAQsByv5f/LP80/0k/RT8ufoE/P78kfzi+3L5k/sJ/Nb8S/7Y/WIAHwGrAqgDUAWYBr0HKQl+CVMKbAnAC4YLUA3bDewLuA6/DZIOGw1pC/EKlApXCnAH0weZBaQFZQS5AewABP72/fj66Pgl97D0GvWR853xjvCh7rTtB++47THtAuxJ6snr3+rZ6iLrpesP7ZPrmuu16lLqRezW6sfsI+3r7FbvVu6q8SLx1vFl8oHy9vk9+qv+2P56/0YGwATzB5cGzwjSDMQLAg72CsAO1RFLEV0U6hKCFE0VgBICEh8RXxFTECcOHw43DdoN7gx4C0AMBAutCPQE2wLeAWQCuQD2/SP/i/2z/o/9Y/vc/Q/93v2g+wX6T/uh+jT92/zQ/cD/J/9QAd4BngPKBEkFJwfzB9QJcAl/ChILAwxzDsIMqA2NDesNHA4oDAQMcAq3C/IJgAizCDkFbQVfA+YBCgHf/Qv93/kE+cr3WPUW9mzylPEE8T/tqu4g7dnsGO1p6gHrkenW6jzrruqO7MDphOrt6qXpZevA6uzrhe3m7fvtUu4d8OXwU/Jw8tHzPviz/I//6f8xAm0D9AbjCM4G2Am0CkYNew5oDbMP8hDSFJgUDhVXFQ4UlhW+EhITWRE9EGMQSQ70DysN6g2yDIYKoQyOBwgGkgM3ASACgf/j/pT8DP0c/qz8RP0c/I38Z/2m/Cn7uPpv+0D8SP33/ND+lv+LAYwDZAPJBQEG/giACbAIjQp/CJYLyQv/Ci8N5QvhDbQMUAxnDOQJnwvUCSAITwfXBIAEJQMyAtv/k/29/LH6hPkp98j0WfOe8ivyuu9X7mntb+2h7n7tt+wA7OTryuxO6zrrXetR63Ls1evB7FbsCe2x7i/u8vAf8Pnv5fDC8FjzTvLM8zX0u/fl/Qv+ZwHTAO4DygdKB7YJIwfyCisMPgwWDyYM1hEyEnkTzhXPEaYV9xKVE3UT5w6nEFwMPQ5TDqkLSA1UCT4LBQtwCLAHawNcA2ICZADR/jT8dvyn/HT8pvzw+2f8df24/Ez8S/s2+6D8Iv2N/vz99v02/yMAFgKJAgsEHgXZBjwICQc3CLkIHwo6C7kKHwu+CnUMKwwUC6cL4woGC4kJkAdNBjAFXwSpAlMB7P+7/p78cPsx+tb3Tvc+9Xn0yfMy8ibxjO6H73/vrO7S7p/sgO3y7QvuG+4h7QDvc+6y7cjtGexc7Yvuuu6F70XvUvCA8ILwTPLN8bbye/RB9jj6M/yp/goAXwIuB/8HFAojC8sLpw41D6EQkBDEEroVlRVVF44WvRawF6sWJxbnFIsUKhOfEmQRJxAvEEEN4QxsCwIJAAgrBF4C/AAKAF3/6/wD/JD6Vflv+Dr2PfW89Irz4fJv8u3xpPKj8zj0Y/Vg9uX2r/eg+J75z/pe/Gv97P6TAvwEbAY+CJsJtQycDisPzg/HD7kRcRLFEusTcxPVFK8VQBXMFAcTPBK5EIMOZgzFCXkIwgb4BPsDjQHd/mj8CfpQ+Cz11vEL77Tsz+uc6U7oved15ofmAOXB4+biOeFv4UHhIeAB4GrgyOC84o7kveVU58bnuuh+6UfrQe0h7mDy/vbM+vv+cQGWA9kGFwpUDEYOJRDtEWQToRVrFyMYJhunHSUfhyDWH0YfjB6zHakcuhryGekYshcoFwEWNhRaEjcRdA9LDegKtAe1BNMB6f96/RT7CPop+Pn2nva59EnyB/Is8XTv6e4e7WzsuOyh7aLu0O6V8CHxOfJo9H31xPYq+CP6M/xR/5IBRQOhBSoIQgzSDeIORxAOEUMTuRN7FIgU5hTbFhcW3RUDFRUUcRRXE/wRAQ+pDPEKzwcdBoAEswHp/l38NPqQ+B72l/Pc8UDwte4l7Hnpb+eo5ozlPeQ346bgseAC4SHhTOEM4LfhYuEi4aziduIy5LvlG+as58jpWuo57NXv9PPQ+W39xgBTA7cEYgjxCgYNfA9NEbAToRZqF8gY9xvYHdUggCGNIcohECA/IEYerx0EHUoavxq9GNEXLRfbFHYUIxJDEAYOrAoPB/kDiwK3/8v9kvvp+On3FPfV9ITyYvK377fu4O7o67vrWetc65Dsk+zk7aPuiO/V8fzy9vP69XH3oPk7/R8A0QHnA5MG6AhiC3kN8w4BED4SrxPdEx0V6hT5FYEW8RXdFcgT5BNSEzARExAfDtMLuwl7CBQGjgMSAkL/YPzS+rX3cPRz8wHx1e6I7b/qyuin51Dmz+Ve5Nri/eKU4U3hCeHJ3wrgS+Di4I3gBOLv4mTjn+Uh5onnHekj69jswe/L88n3pPx+/kICqwTnBg4MMw0zD/8RdBNmFZ0XQxiuGdEcrh5zIHMg4SDKIHMgniDLHvcd5RuXGsoZQBcHFrkU/BJuElIRLg6kDBYKkwb0BH8Bb/48/FD57/eC9tLzOvNu8h7xKvGW73Xu6O3+7Gjspuzr7GbtDu+y74vx6vID9H/2X/jJ+n/9cABoAqIEjga9CLELpA00EFARthJDFAwVHhbxFnUXIhcLGGoXcxbmFRIUTRO+Ed0PFQ7IC2oJnwdpBeUCsABc/Y36XPi29c/ym/AB7pjrgOl15/zlEeR/463ha+F64KPegN8k3d7d7t3Y3G/eJN6h3uHf+uG04Ubke+Xi5XPqzelL7nzy6vTQ+gT9MQBrA1EHlwkpDasPLBCnFDUVOxc8GU8aeh1ZH1QhcSEeI4UicCJzI4YgeCDyHpgc+RsFGoYXcxZpFYMS/BFcD/0LuwryBnoEmAIC/2j8vfrJ9+b1n/Tc8X7xyPAC75nue+0R7HPsl+zh61/tcO317QDwCvCH8V3zyPQv9zT6Mvzz/gsCFgOrBi8J/gopDhUPMRDXEfcS4xPkFUQW9xZoGLkXkxj6F9UWMxYXFWATRhGqDzcMzAqjCFQGqwT9AN7+Fvza+VH3xvSN8Trv2O2d6STpP+aj48jjFuEI4Y/fb96n3vrd391b3iPefd1D3xfeD98L4Trgw+Kk44DlA+ht6QDupvH19Mn5yfxM/6YDaQYrCYEMZw7tEPkSWBUlFwIYBhuqHeMeAiFvIqoiliPnI1cjciJeIfAf7B1nHHMaERhdFicVLhPJEDMPPw2JCpQI6AaBA/MAov4s+wj5Pvbq8xjyZvDf773t+exM7RLskuxN7crsBO1V7RbuXu+377jwDPIZ8771qPcn+Yn8/f54AQ0FTAdZCWELPw1mD38QoBH8Er4TqBRxFdAVLRYbF2sX1BbYFvAVPxReE8URIA8UDbEKxgdeBccBE//Q/BL6Avkv9rXzXPL870nuhexR6njnMuZ+5FDiMeHP3pjeHt6v3aXemd333SXfE9/r32/hRuFh4n3k++Td5sPoVutO76rybfYZ+r78ygDVBKUGywogDccOnBJ0E3EVyhZ5GHwbeByRHs4fgSCYIeoi7iJbIuYiQSGPIGwf8BxtG2UZPBj2FUsTlxHcDpUMHwszCesG1ASPAuH/fv01+zv4A/ZV9AHyB/Bi7hjtM+w07Gbshey57PHsRe6H7kvvXfAV8LTx6vJ18yD18Pav+L77OP/7AEYEfAZ4CBcM/ww5D+YQQxHjEhMTXROOExIUChR3FAsVbhO1E9ISYBEZERgPaA1PC/AI5gVUA+kAvP0P/EL5EPdL9ZbyO/E67yLtNeyI6lnodOc65T7jv+LQ4HTgCOAJ3xbf5N4w3+Tf1OCJ4VrjLuT55J/nQOg66m3tyO9J87/2Uvka/C0APwMmBvUJIAyyDrcRERM2FQoX5xfXGoEc+hzhHksfzR/vIQEifSF8IjUhCSDLHzsdaRv+GdAXBBa9E/EQ2Q73DO8KgQlNByMFVgPrAGv+K/zV+R/3sPW58znx6e8O7tnshOz16/rrMOwf7NHsBu1E7aruAe9N8A3ysfIV9NT1UfdA+VH8Qv6aAH4D9QTQB7gJGwtMDbAOOxD1EJ8ReBEqEgcTRRKrE8MS2xGiEusQeBBdD38NPAzrCoYIdgV4Ax4AZf4u/Gj5Bfgo9dnz+/FV8AnvNO0v7JDqgeke56LlHOR44jbimOCN4ADg+t+Z4NfgQ+LI4tHkuOUo55Dp6ekV7XrvefFP9aP3IPqM/eYAIgO7BtkJbQt5D0YRoRKWFTkWIxh/Gi0bFhx/HcQdhx44IAYfYR9uIJ8e5x6BHqcbNRtBGlIXkhZeFCQRVhAaDnsLGgqHByoFJAQfAeP+ov2H+mn55fd69fPzmPLd8MTvp+/E7fjt3+077TTume2f7mfvU/Cx8avy6fMN9V73AfhX+k38OP2AAHkBkAPTBfMGdwnSCiUMjg1BDhQP8w8gEEEQgxAvEBkQmg/RDk8O+Qz1C/UKzgilB38FrQKmAdD+YvwD+6X3H/au9KrxwPDm7svsXuyO6hfpSeir5pPlFuWr4+bimuJP4fPhgOFR4f7i1eK95FvmaOed6pHs6u438lX05PZp+hb8vP4aAhUDPgbzCLMJuwy7DhwQOxPEFAMWehimGewaxBw4Hd8d+B6zHrcevB50HbMcPBylGuMYCBjoFTUUqhMIEbAPrg4LDP4KXwm7BoYFewP+AOD/UP0d+yv6yPdA9pb11fM58y7z/fFZ8kTyz/GX8l/y9PJa88fzgfT/9P71Z/bt9+74+/np++P8iP5NALEBUAP8BOUFKwdpCNYI2Qk2Cm8K/wrqCpMKhArVCT0J+gjQB0cH7AXQBPcDHQJaAV7/2/3O/Iz6a/mz97n1vvQm85Xx+fBm7yfuAu5t7N3rqOso6jrqu+nX6FXpqei26I3pvek363jsVe0379jwb/K79E32GfhR+sD7Cf5x/8EAAwM/BFwGGAgbCe8Kewz5DacP/RAKEnITXRQaFfYV7BVkFsEWTRZjFrQV6hSkFLETFRMpEjMRSBAlD2MO8AzaC48KIQkOCGoGDwWOA0gC5wCq/33+F/1s/En7hPrl+fz4k/gw+Lr3X/dK99T28fb79rv2Ifc496f3KPiv+DT5y/m5+lb7T/wF/bn9qf5O/z0A+gCkAWQCFwPBA0EE1gQqBZMFJQY+BmMGVQYSBuwFhQUxBaEEAAR+A58CtwHmAOf/8P43/in9TfyE+2P6xvnn+Bf4qffA9h32m/Wp9B30r/Pg8pXyQ/Kw8afxYfE38bLxy/E48vLyRPNI9Bv1zfUI9+P3Cfk4+jT7O/w8/UX+SP99AGIBcwKQA4MEtwWnBrAHnwiECYYKOAvyC4gM7wxtDbkN5A3/DdMNww2ADQ8NwgweDJgLKguUCu4JRQmrCO4HYQexBvkFWAWMBPoDJgNqAuUBDgF8APL/Ov+f/iP+lf0S/c78VPwB/NL7lPul+6H7xPsh/GL8vfw7/Zn9Av6u/hf/i/8cAH4A4wBdAdYBGQKRAvkCSAOnA88D/gMpBFEETARWBC8EAAQBBHcDLAPkAj4C2QFeAaoAGACX/8D+M/6b/cb8V/yJ+9H6Y/qD+fX4jvi590n31PYM9qr1KvWD9EH07fOG84XzNPMT81/zHfNx89nz6/Of9Bn1g/VN9gX3pveM+Gf5Kfoy++j7zfzT/X3+eP9IAAEB5wGQAkQD8QOuBGgF9QWoBkgHxwdWCOAILAmSCfwJCwphCnQKYAqJCkgKLAoGCpMJVQkPCZYIRAj2B2QHGQe3BjQG4AVjBQoFlAQgBNUDWAMDA7wCVgIXAuwBnQGTAZABZwGaAYQBiQHhAbYB1gEkAgkCQAJyAj8CbQKhAowC1ALkAuQCNgM8A1wDggNoA38DjwNlA0cDJAPeAq4CbQIYArQBQwHjAF4A5v92/9v+Y/73/Wf96vxt/On7g/sC+5D6Lfqo+Ur5/viH+D74/feS92r3IffO9qr2WPZG9h724fXm9cr1t/XN9dP1wvX+9R/2O/ak9sD2IfeI99D3a/jA+D/51/lS+uj6ffsV/I78Mf3M/Vr++P5z/w8AgQAkAbIBAwKvAgcDhAMSBFEEygQgBWgFxgUBBhgGXAZ/BnQGuQatBpkGvgaUBocGiwZjBlMGPgYWBv4F0wWoBX8FRgUXBfMEyQSXBHsEYARLBCsEHgQZBPQDCwT/A+YDCwT+A/EDEQQVBBsEQwRDBFsEdARkBIAEjgSDBI8EhARWBF0EPAT4A+cDkgNeAygDzwKaAj0C+gHIAXMBIAHkAHsAKQD5/3r/Jv/H/lT+Cf6Q/SD9vPxN/On7k/sp+7/6ifo0+tb5rvlk+SP5GPnd+LP4sPh5+GX4XPgy+Dz4Mvgl+EX4RvhR+G34hfie+NT4Cfkb+WD5kvm8+QH6Nvp4+sD6EPtY+7H77vtF/Kv88Pxy/bj9B/5u/qv+F/9V/6H//f80AIIAywD8ADcBfgGsAfgBOQJQAooCxALzAiYDUwN6A6gD0QPmAwwEIgQuBF4EaARyBJ0EoQS4BNgE4QT2BBUFJgUvBUAFSwVgBWMFcAV6BXIFigWDBZIFmQWKBZgFkgWYBZoFjQV5BX8FcQVMBVMFKgUSBQkF2QTFBJ4EcwRRBBgE6gO5A2UDKgPuApYCUALzAZUBQQHgAIQALQDK/3X/J/+z/mX+Gf6x/Wj9Ff3D/Hn8Nfzn+6f7d/sr+/76xvqM+nX6P/of+gn67fnb+c/5wvmy+b/5vfm6+dL51fnt+Qv6Gvox+lb6efqP+rv64PoN+0D7UfuB+7r7zvv4+yf8Pfxy/JT8pPzi/Pr8C/1B/Vb9df2e/a391v30/Qv+N/5R/nr+of64/t7+9f4d/0P/W/+P/7L/0P8FACgAUwCOALwA9QAtAV4BmgHOAQYCPQJwAqoC4gIbA1EDiwO7A+YDHAROBH4EqwTZBAsFNAVRBXkFlgWrBdgF5QX3BQwGBQYTBg0GBwYFBvcF7wXaBcgFsAWVBXUFUQUwBQUF1gSaBGkELATrA7gDbgMtA+sCqAJgAhkC3AGPAU4BBgG+AIAALgDv/7P/Zv8o/+7+q/5u/jL++P3H/ZD9Yf0z/QL94Py5/Jj8gPxl/Ez8OPwq/B78DPz9+/779/vt+/H76vvn++v77fv3+/v7/vsM/BT8F/wk/Cn8NPxN/E78Wvxq/HP8hfyL/Jj8pvyt/Lb8wvzS/Nv86fz3/Ar9Jf06/U39YP18/ZH9pv3D/eD9A/4g/kT+Zf6E/qz+zf75/iH/SP97/6L/0/8GADUAaACaAM0AAQE6AXIBqAHiARoCTQKCAsAC7gIgA1QDfAOvA9gDAQQ1BFgEeAShBMME1wT0BAoFGAUzBT0FRgVPBUwFSwVMBUQFLgUiBQwF9wTkBLwEoQR8BFMEKgT5A9ADmgNvAzgD+ALHAocCSwIMAs8BkwFSARQB1wCiAGAAKQDx/7T/i/9O/xv/5/6y/o/+Vf4r/gj+2f22/ZD9a/1I/Sn9Ef33/Nj8xPy2/Jz8ivx9/HL8afxa/FP8TvxI/Ef8QvxB/Eb8SfxN/E38UvxX/FT8Yvxn/Gj8c/x3/IP8jfyU/J38pvyw/Lr8xvzR/OP8+fwI/R39OP1M/WD9fP2W/bD9zf3t/RH+Mf5T/nL+mf6+/uT+EP81/2P/iv+1/+b/EgBDAGoAngDOAPYAKAFZAY4BugHqARACPAJxApACwQLkAgsDNwNOA3cDmAO4A9ID7AMQBCIENwRGBFcEbAR3BIAEhQSIBIkEjQSJBH0EcARfBE0ENgQeBAcE7QPNA64DiQNdAzcDCwPlArkCiwJbAiYC+AHEAZMBWAEiAfYAuACIAFEAHgDr/7T/jP9X/y7//v7R/q3+ff5a/jP+Ef7y/c79r/2N/Xf9WP09/Sb9Cv30/N/8zvy4/Kv8nfyN/IL8c/xv/Gf8YPxe/F78Xfxc/GH8Xvxk/G78dPx5/Hv8hPyI/Jb8oPys/ML8zfzj/PT8Cf0j/Tf9U/1r/Y39qv3H/fD9EP41/lj+f/6n/s3++f4g/0v/df+e/8z/9f8nAFoAiQC4AOMACwE5AWYBkAG6Ad8BAwImAkYCYQJ/ApwCtQLQAugCAAMSAx8DKgMuAz0DSANJA08DUQNTA1MDTgNHAz8DPAMwAyEDEwMEA/cC6wLcAsYCsAKeAo4CfAJmAlECOwInAhIC+gHgAcgBsgGeAYcBaAFWAUMBKgETAfYA6gDUAMQAqgCEAIcAaQBGAEEAKQASAPv/5P/P/77/rv+J/3D/a/9b/zj/If8V//z+6f7a/sL+tv6h/ob+bP5Z/lz+Pv4p/iD+Bv4D/uL91/3W/cD9x/24/bT9sP2r/aT9nf2s/aD9rP25/cP9xf25/cf9zv3q/fL9+/0F/gj+I/4i/j7+T/5j/ov+nf7E/tr+9v4L/yr/Sf9l/43/nf/C/87/6P8FABcARQBlAIcAjgCwAMQA0QD8AAgBKwEmATsBSQFJAXABbQGUAaMBsAG3AZwBrQG1AdYB4gH/AQUC4gHgAckBzQHPAfsBAwL1AQMCvgHJAccBtQG8AacBEgJFAu4BawHiAJ4AzAA3AXUBqAGmATQBkAA8AF4AcwB3AKUAugCPAD8A1/+k/4P/nf+Z/5P/cQBJAFz/1P4N/hL+gf7b/jP/SP8k/33+8f3D/db9Av5K/qP+of6C/iP+z/24/aX92/0f/lv+gP5j/jP+8v3H/eT9GP5b/pz+uf6k/nT+RP4X/jn+Zv6q/hX/I/8Q/9r+lv6i/tn+6/44/3T/TP+A/2b/Q/9x/13/f/+j/+b/aQBpABwA5f+L/4v/5P87AIsAqgDmAKMAWQBwAEQAggC1AN8ATwFKAUIBJQHzAP0A9gAnAWQBqwHTAawBngFgAWoBhQGnAe4B2AEBAuYB2QHMAZwB4wG8Ae4BJAIAAiICzwHKAeEBqAG6AYoBAQLjAmcCvgHoAD0AmADSAJ4BFwL6AbEBhAAeADwAMAAtAF8A4ADhAIoA7/+R/xH/Sv8BAM3/AwEeAWn/if5l/Xn9WP4r/ycASADK/9z+wP0N/Zb95P1x/m7/RP8H/yz+mf2O/f39qv6V/jL/CP+d/pD+Gv5L/l/+qf4I/+n+vf5+/k3+L/5w/qj+2f5U/xT/Cf/r/mr+CP/t/gn/VP8T/3D/MP+I/1T/Tf+8/zH/mP8h/1X/gQC3AIAAkf8X/4j+fv5s/zgAyAAYAe8A7//S/w8Agv+e//v/jgAKAcEABAF+AMH/3//E/9YA4ACCALoAMgC8AI4AowAiAZsAkABnAH0AsgCZAF8ApwAYAR8BzgBtABwB9wDKAAsBgADRAL8AfQAQAeEATABcAB0AIQD+AOwAmACYAFcA3/+x/93/GwCTAIsAcABRAKUASABQ//T/6f9PANoA5gDJAKn/KABw/8//LwBt/78CcAKPAPP/B//b/8H/cgA9AKgAqAAr/zP/hv5e//b+Af+OAEMAJACA/1//DP/9/iD/l//f/6X/GAA2/1H/VP81/63+4/5O//z9ev+H/qb+WgA4/83/gABGAZcAAQDi/wIAu/9n/3sAif81AB3/IP8HACT/1ADk/RH9vf3e/XQAHQB5AS8Bu/8e/xP+9P8hAVYBrgGKAd4A//+L/yn/jv+K/0r+xv7P/4z/XP89/jb+XP81AKwAXAAEAKP//f5T/0MAgP6rA/AH1wKvAqv+Evw9/qP8DgB4AZgBgAQiA2EACwEW/hT6d/w8/Tj/WgJlA+0Blf5k/Ez7zfzk/CIF/gqkCIMIV/4S/HL+XfvLAWIEoAT9BcMB0v6k//z/o/9yAKsBaQOsAsEBywIYASr+U/69/Qj9+v+w/wEAxv9H/Qf+Rvub+/f9OP8QA0kDVAOa/vr5Dfs8+mv+/gGzAb0BKP82/i/9T/s8/S7/7f5vAdQB4f9QAMv9I/0e/nX/vgH2/0sAWgHw/8/+3v58/ij/kQFc/5YARQP2/8T/ov9q/Nn8+v3E/CP+7//iAEz///u4+5n66vu1/Qf+p/+u/xP/Hv7o/5H/vP08/1b/WQFAAhcBRQF+AFwB5wF9AIcCCgSbAUoBqQEHAUAArQDLABz/ugBvAFL/QAFeAJL+kP1T/Cj89/7X/+b+hQBN//j8cfw8/W3+sv5R/+D9yf1m/7L91Pz0/koA0v9/AP//3v63APT/8/8CApIBkAJZAVkAEQI2ASwC/gJ1AnoClQGfAv8BYwH/Aaf/3QBGAr0AoQEtAtEBSQFwAbAAQf7c/hX/yv71AL4A2f+bAHf/X/5v/h7+4v4xAKP/S/40//n+yv7LADcAOgHpAUr/bf/uAIMBWQE7AvoCSQIuAtMAVACdAZ8Auf9OAboBbgEpAxwDuQAsAET/n/48ABkB/gFUAYYA4QB1/mz9vf5v/8P/1v/l/5n/A/8/ALMAx/7fAEEBdgD8Aez/zAAnAef/YQBOAI0BHACCAbwCOACdAU0AEv/RAHkAwgDAAPsASwFOACgAr/+L//v+e/+ZAD7/FQEBAWH/ggCW/sT+3v/A/zEAQwDWAJf//f88ALf+sP8DAEj/Zv/6AA8Bmf9oAb4A0/6RAEgASgDtAHsB4wCf/l0AYAAzAOIA9AA5Ai0AowBjACEAkQAG/5IBswAfAvcBXf6+Aaf/jP6UAB0A1wHsAJ0AtQBY/3H/dwAuAdYAIQIrAuYAUwAY/m/+mgCYAAMBagGgAMP/w/0P/B/9A/5h/+0APf+i/mH9CPxz/UX9VP5v/nr9d/3o/EL+If7N/d/9Zv55/vL8jv3r/IP96/28/SP+LP2R/g/94v1nALn+4f6w/Z385fzd/bP/OP+W/sn+xP1B/V79yv2P/s78C/1c++b6lv3G+2P+zf03/fH9bvqM/Df8Rv0X/vL8yv0s/ez9vv0t/4r+9f5e/dv7wf+T/ksAJAALAML/nf2g/4D9bwC1AH3/QgJGAJMAdQB1AmwF+QWZBiAG4gbOCBgIagdjCtUJfQs2DIUJWgsiC/ELIAwSDHkM3wv8DCALqgrCCd4IRAkUCW0KnghQCNAHaAXwBQQEtwKJBFUEvgL2AcwBJQEWATAA1v5J/yD+Jf46/vH9RP/o/BH9uv2G+0/8p/xn/YP+ufxN/Gf9Dfyd/YH+dv3P/ib8X/u1+lD54PlT+Gv5CvnP+DH5iPjR9g70sPRN88DzJ/PV8aXz9vEF8vLxcvGD8Djwa/CK76DxYO+J793wJPCI8vvwhfJY8wf14P5IBLEGEwYDAogDsQUiBtwKKxIyGZ8aVhZUEQAPrxGDEbQSDxX9FOkVyhDuDacKMAhoCjMHfwc2BKH/t/8S/vr9K/tY+pb5mvi+9q7xbPLQ9CX3YPZM9TL26PbQ+az4uvjn+6b+qv+JASsFAgbmB+wFyQXDCEUKtQ0cDeYOtg7yC/UMagyGDTsMWgnkB+8HxAeBBEkDSgE4AHAAWv2M+pX5Cfk7+aX58/gP+UP3GfZ19Ub0kfcY+EH5VPux+nP7S/uj/WD/kQCDAmMEGghtBx4GCAdaCnANbAtwCtcJZAmdChsKaQoiC9EI3wXbAmIB6ABB/+T/6/+W/wj/o/yl+Z33Rfm9+B/5dfkh+Pr4U/e09yT4W/kT+pf4Xvqe+ib73/li+TX6Evo1+9f4hvjc9zz26faB95j3T/ah9C3yVfI58C7vKPCy8ZH0VvGB8X7u7+3Y8Fbtye707C/w3PHV767w9e/s/6oLbg87DfQEJwmbCc0L1A1+E2AhriMhIwccURW8FI0RwBHSD8UOmQ/CDhoNWgZXAbUAAf9W/Qf5A/X19Vz2M/dS9l/1UPfx9wf5ePZ29VD5Ff1jATkCgAQlCB8I7AemCD4LVA4SEPcRHBNmEiER1w+yES8StA6gDY0MNQs3CFUFYwVNBWgFgAEt/en5Ufbp9h34//hr+Cb28fXh9Vf12vXh9kr6W/3m/Q7/Nv+jAQEEDAS3BCYFaQilCSAKdArQCcgLUgu5C9gKnwlsCXgGigbsBfMEUgUuBJ8CBQHe/0n+v/3E/Qz9Yfyl/Of8i/y1+6b7ffyv+8j65/gJ+/39P/1y/X37J/1B/Y37M/x/+wT9nfuY/Az84vrt+5L6ZP4G/W38b/xu+lP7H/d19i71K/W/9dr0F/Vm8ZnxfPFH84fxlu8c8a/ue/GR8CLzYfQ/8qHxZu+K9M/wuvLe9HbzB/Yi7mrxevDN7+vyA/elCmYQHxBxCUYFuApgB58H1wddEfQYlhavFEIORQ8vDt0I1AX4AlUCoQFaAM3+Kv8l//wAewCV/Mn3pfKp8w71PPfq+aD9JQOTBK0BdvzN/GH/KwKSBIsEoAg5DFYLsgkvCW8JAwwFDaQLMQloBOwDzwSqBk8HIwW/BXoEngH4/fH8S/66/ykAYv3O/VP8Cfsz/GP77Pzo/HP9Qf9n/7n/ywB5As8CUQNwA30FoAY4BL8DcwIxA4EGWghECS0HkQRtBA0GngasBXgE5wTvBggGZQX0BMQDyQSlAkwA6wCEAKYAqv84/Rn9kf4e/6/+Lf3u+3X9oP1Q/RX+vf0n/4D+vf2h/dH77fxh/fv9vv5n/4T/lP9nAJP9Mf7y+zX6J/zr+YD89Ps2/C39Svrj+Lf1yPZ89u/2vfSi8kz15fOV9MLvf/AJ84Hxl/Mc8PLxifE98irz5fJt9fvwvvQQ83LyBfNC7vr00/LB8h/2Yv4GDmMPRQ1KCFsJWQzVBwwHHgo7FPwXrxXpEjwOsw8iDf8HjAVzAYUAWgD8/pj+c/0e/u0AjQCr+iD02fHG9Of51/tu/+YEHwnXCsQFiQPrBPYFeAiMCM0JLAzyDMINKQ/vDnAMsQoICIUF2gFq/S3/OgJAA94DogFb/+38C/rd+dn5pPrW/B3+bAC+AI/+egB2A+MEWgVbA3kDkQWiBnAHZQgLCKoHlgitB/kGjQTcAiUEFQPzApUCjAJGAiH/+vzp/En9Lv0p/iz+2v+OAJ3+1P71/nYBngJeAQMB4AG9AsUCpALmAFIDfQPIAWsB8//UAoADIAVuB7EI2whABPMArf3P/Nb7r/xt/zD/BAH3/1T/p/7x+5v7Evvn+l/7/Pz5/XD/yf8J/0r/Of1w/Ij6JfhS+Sf69Pro+Xv3hvfh92D3n/Q08sjzyvQa9AXyofGH8u/xr/FR8E7zQ/Xe8/j0x/PB9Lz23ffY+Dz4w/ec9qj2LvZo9e70HPbw9y/5xvuE/V8EEAytDn8PhRCAEu0QgQ5bDDEPDhSuEiwRag+HD6wNGAkUBioBuP2J+UX4Svnw96T3qPif/Ov76Pks+hv72/65/U3/YgOeBh4LHAyIDtcO9w6dD0INTAtICBMIWAgPCNEHJQamBBcC9//t/TX8B/vV+g36Rvm4+JT4cPwc/q7/xAClANwBCwH9As8E7AYUCe8J3gt5C/oKdArOCm8JiAa8BT0FMgRtATYAKADQ//D9Lvzm+4r6GflV9233z/fP+OH62PzW/nv/KwBiAJAChQONBDEGbAV/Bb4DtANiA0wD9gMLAnYBS/+g/YX8Ufzx/En94f1g/IX75PrS+5b8l/32/tn/1AHyATEETQc3DCsRFRKzD2QKqgd8BDUCswH3Ak4E9wJeAlP/gvyG+PL2+veM9gb1v/Ga86D1xfZv+aL6Zv0N+y/4dvU18hvylvHx9E33l/bT9vn2ZfhH9sHyI/I68Urxv+8F8NTyc/Pn9pH5lPuo+vT2gfa09N30xvMy9ED3k/e6+Fb3xfhm+hb9rwGQAW0DLgNhBbUIDQn+DJUOMhEMEjcRJxLgDkANYQuACccHMQLR/6z/jwC8/qD6Kvsk+576x/jk99z6L/wA/of/hAFOA74EhQhDCosLpQvRC5wMZgsfC0IJfQhBCOIGPQedBE0CYwF/AE4Avf1M/eP9wP3H/J37vf7WAHABZQHVAhAGcAW6BbQGRwgrCegHNgkxChUKHAk2CLsHuwYeBc4DYQPXAQ0Bef+K/nf9rvss+z35rfjg93X45Phd+Jb6Uvyr/mX+nf73ALwCVAS8A5IECQUYBXQE+gOfBCsDRANcArMAOf8F/U39vPxP/Pj8Y/zK/Uj/s/+4AMIAQANdBUYFEwW5BOsGSQdzByEJ6QyIEXURLQ+NCYkEIwCs/Oz76/ma+VP5oPp4+qD46vj5+dH7ofjF9Mvyz/Kg9OL1r/ke/W7/eP+i/fL5i/Xx8qTxifGc7xzvSvBN8wT2nvbE9m31ofVh88rxVvBB8LnzcvTT97f4lfoS/UD8H/3H+an30/Q48+X0XvYx+9j+vgOjBXoEHwM1AkEGRgkRDR4QWBFOEZQOqQ7LDkoOvgxICecFMQHB/Hz6Y/on/A79+fzR/WP8EPsa+7X8KgExA0gF9wb/CC4MeQx/DYEOhw9fDgQLewmnCBgIWwamBdUD2QD2/s/89Pta+q75B/qd+uX7yPs//DD+sQHJBCkGDAevCAAK0wm/CT8JEgkACW0JWAnuBwUHswVWBO4Btv+v/Vb82fyQ/Xb+X/2U/ar9RP1g/mv+BgDC/w0AigAf/4n/C//CAEoCCgMhBK4D4AOUAqUBeAD6/wsA8P74/nL+9f7m/XT8p/wA/En8g/vh+1L9Rf7s/xABwwI4BAAF7gWJByIIFAgMCBgIIAkuCCsILQg8CHcJTgdzBKH/1fvK+cP3c/ld+oD6ePkF+XH5V/jy+Hj5X/pB+QD3MvWO8yj1p/bd+Ob55Pmy+Yn3ffY79Zn08fMf9HX0v/Pb8/zzYPU29eD1Y/Xm8zj1F/Xd9VT0yPQY9+X25PiZ+H75u/lE+mL9Y/42ASsCQANiA1UCvAS1B8INqhEzFL4UBxAoDccKvAqoCHoE1AP/ABL/EP3k/D0ADAGKAcn+rvvJ+bT3Z/q+/tUDzganCCkMUw4IEBYPmg6LDuwM/QrVB8YHWgdVBg0GFQRqA0oBU/9P/UP6sfks+A34pvnf+sb8Kv7QAf8ELwZdB6IHeghgCLkI0QjOB90HhgczCMsGXwUrBW8DwAIrAOX+QP3m+jD7kvlc+tX7Lv0e/jf9Q//L/7v/bABLAWACswGGAnoDfwTVBGQE7wSEBNcDPQEh/3P+5/y1/FP8lfyU/Nf7vPyX/NX8BP0O/Ez7X/py+xD9qv6vAF4CiwMpA+wChgLJAvUCDwNcBE8E/ATdBBgFAQYGBTgFEwT7A2cFpAYcCKsFZgLb/oL7vfl1+En5qfl7+Yj4RvdB9yz3kPjj+bj65/lp93/34vfR+K356fnI+hf5ifhP+Cz3GfcV9sL1F/Mk8B/wHfFV8+T0v/bq9qr1rvWs9jj3UPaq90P50fkb+fD3UvhD+BD6K/v6+vL69voJ/Y7/fwNXCMMO2RUEGkoaNxc7FFEQgQyoCK4EEAP4AScCqwHEADwAUv7D/Yn9tPsQ+GX0ovRq+Bj9tAHjBWoKyQ6JELsQQRCqD5YOpgsXCWYHlwYzBoYFRAWYBI0DdAGH/sj7tPlr+Kb2cPZz95j4xvqz/eUC3wZaCakL1wt7DLULZAvmCwgLDAuhCYYJAgmSBsoEnQJeAV/+FvwO+/T5wfmj+dz72/zf/en+i/94AYcBVgKBAQUBOgJbApAD1wN0BXEGLAZIBqUEGwOQAUQBEQBY/iH+kf11/dX9QwCzAL7+Af9K//f9afod+dz5lPiR+Lv6zP3T/8wBCQV+BlEGFAZuBZID6AFtARYB/wCyAS0DeQMNAxgDZgKaAW4AKf8X/rf8BPx0+8j7Tv1n/j3/hf/s/qT9Lfxz+876kvp++7P85vwE/Of71fvp+uv4APcx9oLzEPH176HwA/Iy8YLyCvOq8sryb/Ms9tD0W/Su9dH11fQA83/2Ivir9zT4XPlo+kr3qvck+Hf2Q/T18hT2vPVf92r+ewr6FjsbpB5jIOAfAxxFFrsT6wzKA2T8U/rg+wP7hfub/b0B5AOQAXH+A/yY/Gj77vcj9XD0Hfh7/WYFuwxfENkSyRSwF9QXtBSxEKcLfAclA+T/FP4K/UX9qP2P/tT98/s/+xP8S/w9+eH2Z/du+nj+rAIWCAIMeQ5XEA0SlBMCEy4R8w3JCQ8GQQNfAff/0f/t/wj/+/2K/kL/xP1l/Dz8o/uK+Y34X/p6+7n7Ev10/xwBgwH8AvsEKQbmBaAEiwRlBt8IWAlZCPwGUgQWARn/s/6j/BD5a/cQ92X20/Ut+KX8KP/C//D/tgBDAQ4BMQL2AxMEBALw//z/8P8r/x7/mP+o/4r/mQFeBFsFCwWmBEIEPAIeAA//a/4e/cP69vnj+qn86P0R/5ABaQPuA6oD0QPzAmgA+v5V//r+FPt390L3qvhB+NP2nfjp+R/4j/UB93X6z/kr+Sj6Fvsp+ZD3kvkx+Sv3PvRZ8ijxiPCJ8qrxsvCe8HvxHfOq87b1pvRH9AD2y/Yz91D29ffK9yL4BPuL+0v73voO/SL8Xvnk+t78pwAjCMoTEBn7Ff4XvB44IRUbJBZSFFUMjwGg/DH/df5V+Nb2f/vo/h38uPqe/uYAUf7O+5r8Lfzf+iL/AAjsDIkMjw21ErEXFxmxF/QS9guJBJf+xvqN9/L0xvFm8PXx+fSO+Fj7uv4KAc0CqwTJBegGWQe1CDEJ5AjiCZQMhhATEiASJRFxDy0NVQpSCB8FxwEk/yv9kvpW9xX3pPgS+rD5KfnS+WP6lvu5/Lv+PgCYAOAAhgGYA7YEswWPB7IJ0AoACh4KIArFCEYGnwPbAAj8CPgW90X49/hO+Gj4V/k6+3T9gv4l/nP92P2Q/hv/jAA0AtgCAQMVBHwGaQhPCSQJMAiIB/oFhgMWARoAwv8d/kv9O/2j/E37qPuV/oD/7P1W/MP8i/3W/P38CP7G/g7+jf1l/8sB6AITAjkBIQEHAKb9yfuF+176Ovds9V72E/fh9o34P/ua+tb3qPjL+xP8+Pgi9gv1N/Rx9Av1uvS086jyVPO19Ab2bfa49uj4Efpj+tX7jP4L/037efmh+b34cPbT9Xr4IfiL9Uv0g/bN+Sv6j/vp/NP8/fwUA6UPwxZvF6UYhx0BIP8cAhxxGjwTxwjSAuIBav1E9yj0PvRP9NvzGPcU+8P82vxc/eD+4v2//D7+WgF0A5gCdQMsB24MJxE2E/MTxBELDxoN+wo7B+r/uvle9c3yj/Gm8Tv03vUN+DX7Vv+4AskDugWNB+8IeQj1B0sJowp6DMYNug6DDVALFgsTC8QJmwZOBNYB8/3l+pn5lvlw+DP3bPbh9XL26fe1+pr9AQASAeUAWgH3AasCYgOhA0sC+/9iAAMDCAVzBTIF8QRTBBAFTgaUBeUCrv/2/Ez6S/kK+m360vko+fD5vfs9/nQAsAF/AvACuwIQAtIC2wRYBvUFWwTnAgQCWwKfAroBSP8X/Xv87fs5+5j6GPtt+3/7xPwQ/sr+7P7y/3wA5v9cAC8BxgDV/kD+KP+l/wIAcgDzAOYAqgBjAGAAHwF/AbUAxv91/wz/z/4x//j+Y/yf+UP58/mg+Sn4xvfS94r3s/cC+Rf7o/uh+5b7YPtP+178hP4+/i78vvrS+tD6S/p5+qH5lvd19Yj1GPcf+FP4SvgL+SD4qPYc91/5mfnO9vv1Bvao9TH1oPYn+Ej3TPiK+68CxAsZEwgXRBlXHuEfYx5FHioddRXQCHID3gCe+qPzifCW8G7up++L8wL3OPny+ZX83v4NAagAbACHBPIGrgV2A5kGuAtEDngR+xOpFKMStxGwEqQREg7pBhgAlfsO+Eb0K/Dm7mXua+4Z8U/2JPx+/zUDzQhzDj0RchC0EJsRWRCbDMIJ1whhBUkBRwCeAdoAzv19/f7+yf8P/3v+EP4n/Nv6Hfv6+7n67ffG9nD34vhC+qv8kf/yAYEEeQcdCnULQQxvDBcLjQgeBjUEJwIKAGf+kf0F/YD8ZPym/Y7/1f9//rz9X/4t/i79Fv0b/aj7YfoU/Ib+Uv/R/7QBPwP0Av8C9QONBAAEQQM8AlsA7P5+/mj+of34/Mj8Zfxl/NL92//Z/7P+H/9IAAT/Yfzn+2r8afte+nf7MPxp+yL8VP/KAasBTAFwAekBIAIAAoUBhgBq/979L/7l/1oA/P7g/TD+nf0d/uL/7v9V/Uj7y/sh+7j6S/wj/Zr6yPdF+Tn7gvvN+xH9kf2Z/IL9hP+DAOj/Dv8z/6v+Wf0v/Fz80vzS+ur3r/ZJ94D3Z/Y39jL2ffVR9M7zWvXO9h/3cvVs9JX1rfXw9HD0afWF9Qb4/wFODCoQihBpF+kgLiR0JJAkmiGUFwQPLAyLB4f+ZvVQ8THtqugw6XHulPIA8UTx1fbj/Cr/XQCsBNsGswVYBQYIVgqXCvgM1A+9D6cNcA7HErMVvhRQEHELwQe1BG4BNf2q92DwMuqc6JnqiOyu7Uvww/RI+iABuwjODksSrhThFv8XZRfcFHkQhgvdB/gE7QCc/Eb6yflX+Ub5H/pj+g76QfsI/lf+J/tj+G/4Kfk1+Gv33fc++Gr4tfqJ/zQDPQViCKIMWA5yDTkO8g+9Dp4KQQezBFUAAvwy+qT5kvdX9fP1LPjY+RT7jv0YAOsAgwH9AgMEwQLlAAUAZ//G/mH+hv7W/tv/JgEUAp8DkwWfBj4GDAZSBc0CRAAH/+f9efug+fv42vi9+Zn7Rf20/Y3+UQBfAisE1QRBBLsCcAFJAED/Ef4B/DP6/vmo+lD6L/qW+6r8h/xf/a3/wgByAOYABwLhASgBEgHWAKz/P/71/Yb+g//A/xz/Av/w/0oBowHdAfYBEQFx/07+lf4y/rv8XPsw+6L70/vg/Fj+Jf/X/gf/bQAVAYD/fvya+uj5ufip9mD11PSv8/byZ/Tt9rr3VfgJ+l37OvuT+0P9zfw1+536FvoA9+/z0PT99H3ydfC58QzzSfWz/tQJig6/Dn0Uah3RIN0hhyP1ISAZXBG1Dv4JIwFU+FHzQe4l6gDqfOwH76jv6PEA9/f9XgKiA74GMgtMDagLcwuZDIkLkQnBCCYIBAV8A9kFoAgYCIAFgQVHB08IMQfqBckEfgGJ/Wz7IPsR+Rz2WvXL9U329vfg+9/+EwBrAokGuQpODXgOEQ4ZDfIMQQwJCvYGBQTUAND9NfzV+hj5bPh/+Yr6dvoJ+6f86/34/aj9/v08/sP9+fwS/eD9d/6x/x8CZwRiBboGcgk4C8kK5QnwCWEJywZjA88AKf8Y/Yv6CPm4+F/4Dfh1+Zr7X/wV/Xn/ygGYAesAmgEMAjIBCwCk/1b/Yv+p/5L/xf+DAIABQwKjA9wEgwT5A2IE7wQ0BIgDdQMXAsD/oP5U/zD/jP19/Cv8i/sC+yz8gv3I/Oj7Gf3t/u3+kP7Y/wUB0ACJAEYBkgGWAEAAPgEuArgB4QA2AcMBkgEuAZkBnQG2/4D9vvwq/fP8x/v/+g37f/uX+2P8iv4fAB0AJgByAcgBoQDiAFkCwQH7/rv9t/5Q/x//Mv80/0r+QP2t/fv+Nv+f/cb7ZvtI+5T6Cfq6+Yv4gPYm9gX3YfcN9/j2ifd/99r3xfgo+ib7M/u8+0T8bvxk+9T69fqM+ez2TPQw8+DxgPDS7z7vKe/p8E/3c//vBLEHiwzJFLYalR0SICghoRyRFisVVROmC4wCCP5/+ezy7/D081v0VfCG8Lv2bfyb/moA0APDBS0GNwcjCdgI5AWOBPQEdwPm/4z/rQKcA8oBawHRA8QF8wafCHsJPgi/BQYEHwN/AggBAf5U+qH3RffB+Ov65vuH++D7EP+DBIoItQn1CcYLrw27DTkNDQ2gC90H1wSTA9gBDP88/af88/ox+XT5O/vr+4378/vw/KH9k/05/ov/eQD5/xD/qf8dAWQCvQIyA1gDVQOIBK8G8QduBuoE0wQcBWUEKAMaAoz/6Pyv+9L7c/tn+iD6/vmP+g38dP4uAIQA2ACwAesCNwP7Au4CcQItAQYA9f+e/6L+mf5I/yH/hP5O/9QAQgF5ARoCQgJZAbQAFAExAZkAJf+5/ev8Cv2u/ff94v3M/BL80vyg/ob/Tf+W/5v/if9FAFgCOgMpAnoBngEdAiwCmQILAlcAOP9D/9n/Mf8n/gn9oPzD/LP8ofxn/JL8Svxt/Hb9if62/lX+3P4s/8f+cv7u/ub+xf10/V7+9f5e/lz+Jv8t/yT+o/3U/TH9xPuK+r/5lPib9zX36PYm9jz1JvXz9T33wPfl98L4P/oj+377wvzY/Wj9L/wk/E786fpG+RD5UfnX9yz2YPY593L2S/Uo9mn3Y/eK+HP9lQIxBEcF8gmnD5MS9hSWGKsZoxYPFaQWtBUBEHIKHQfuApz+qfxt+1b30/JD8uD0Rvfx9/f48Pqr/ZgAxwOhBpgHugcQCBoJUwm9CPoHywa4BawEawT5A2UDyQKCAt4CrAI4AocBigGeAUkBZADa/lb+7/7B/wP/Bf5Y/k3/UQBgAeECYQN0A2oEOgatByMIYwgACC4HZgYpBsEFNgQMAl0A6/+C/3H+cf0f/cr8BPwV/Cb98f0H/kf+0/4X/9X/awFhAu0BZgH8AZwCywIfAygDVQJ2AegBlwKUAkECrQGpAOL/lgAxAU4Ax/4u/l/+Q/5a/oj+av7H/av9bP4L/17/1/+uAN8AxAAaAacBsgFyAYABRAHaAIMAiwB9AHgAUwCc/x3/Wv8dAPb/Vf/l/rL+pv7V/nT/SP+2/mL+0f5Z/4v/of9U/3r/1/9mAL0AMwFaAckA7QB9AY8BewAJAOj/3f7I/UP9//yy++n6wPqo+qL6vfoy+zv75ftt/JL80vyE/Ub+4/3H/bT9Lf1f/Fb8xvyp+3X6UvrF+lv63Pl++qL6Ofo5+oT7q/yj/J/8z/w1/Qb9/Pwr/X38afuV+un6zfoz+hr6UPqz+oL6+Po6+zz7MfsQ+3/7Ovv7+k/6dPoC+9368foL+xn8xfyt/lABEwOEBF4G1gkJDAQO2A/1EAkRYxDKELEPug2hCqMH4gT7Afr/Zv2J+2T5g/j0+N75Ffu/+8H9av9SAfgCmQQfBpwGYAdQB6UHeQc6B+kGLgbJBdIEoQQ6BAUEkwPwArQCNgI1AroBmQEqAU0Ae/8T/2//+f5l/uz97P3r/Tb+QP+6/7//3v8CAQUCiAINA2YDcQNGA8MDGgTiAzMDiAL8AX0BTAH6AHgAr/8r///+Bf8U/xX/H//9/jH/vP9mAMUA/gApASsBaQHAARECDQL5AcgBnAG/AdwBwwFTAeoAVQDY/8D/wf9a/2n+3/3j/Rj+CP4Z/mf+Yf5n/v/++P83AC8AnAARASYBVQEgAnUCFwLCAQ0CXAISAswBsQF/AdkAjgClAFIAuv9y/3L/1v5e/n7+iP4W/rr93f2U/Ub9VP18/Sv9tvy2/Hn8L/wH/Cf81vsf+9r63voA+6/6gvpq+kH6GPoC+nD6cfo1+g36ZPqm+on69vo7+x/7xfpC++f73vvj+/P7KvwE/ET8g/xt/G78Zvyi/Iv8w/zX/Mn87Pwq/Zn9h/3Y/Tb+c/6O/vX+zf8YAMMA7wFyA4MEogVaB8cIFgo1C3MM9gzfDMoMjQz4C3cK6ghRB54FpAOwASUAbv79/Pb7lPtN+z771/uh/HL9Ov6V//AA4gGUAjkD1wMABBEE2ANZA6UC9gFuAcYATgDn/6v/df9z/83/OADBACgBjwHrAYUCNgNaAzUDEwMWA8MCdgJYAtcBKgGzALEAggBXAF4AUwBVAFIAogDqABkB8wCvAOEA6QCzAFAAQgD3/1j/LP8j//X+XP49/k/+Ev7m/Qv+iP5l/lH+nf4C/xr/EP+Q/7z/xv/Z/zIAZwBEAG0AiwDJAMEAxADwABEBKAHwAAcB6QCVAFgAXwBaALz/bP9c/1b/Nv9H/37/S/9N/6P/LwBxAHwAoQCvANgA7gD/ANkAbgARAND/xf+H/yX/uf5S/iv+Gf4W/vX92P3A/aT9zv3d/aT9SP0b/eb8ZvwZ/NX7avvc+oj6cvpL+j76Hfom+lb6jvrB+uX6LftP+4v7zPv0+/v72vv4+x/8J/zX+8X7BPzI+3n7u/s4/Nn7b/vT+yb8Ifxe/BT9WP2q/eD+rgBaAoED7gTyBiEJvAo+DPINjQ5DDo4ORw9gDmsMKwvUCZEHhAVzBKUCBABO/tf9Xf1l/BH8aPzG/P383f08/97/JgAeAYACygKxAk8D4AOqA2ADsgOCA+8CzgInAxkDiQJmAn4CkQJuAo0CmAInAtUB6wEzAuQBoAGLAVQBJgFXAcwBhwE8AVIBlQGfAbcBGALuAbYByAEkAgYCqAGXAVYB/QCOAG8AGwCT/x3/s/54/gP+vP2K/X/9Vv0s/Wf9jv3P/Rf+k/7X/hX/n/8EAFwAiQDLANcA6gAIAeQAxACYAIEAJgDW/6H/YP8j/9D+qP5X/hj+Cf4k/jb+H/5R/pD+8P5m/+z/RQB0ANsAMgFxAX0BeAFJAf0AxwCBADEArv9O/wr/uf5k/kP+UP4S/vP9D/4R/tv99v1O/iT+4/3j/Qj+6f3m/fv9xP2K/Xz9xP3R/bb9lf2c/b39sP3q/f391/2I/Zv90P2a/Yn9Yv1K/RT9Jf0y/ff89fzE/Mb8t/zL/K78hPy1/In8gfx6/MP8zfzN/DP9T/2J/a79Tv6d/qj+Av9P/7X/rf8QACgAAAAfAFMAngBaAJsAywDyAEEBmAEfAigCtQI6A70DAwQhBKUExQQCBfcEEwXcBGoEegQ0BMQDCgPqAqQCAwLOAZcBaAHsABABNQEQARMBLAGHAXMBmAG/AdoB5QHQAQ0C6wHCAaQBwwG/AWQBXwFOATgBEAEiAS4B8gD7ABwBMwEkAT4BZwFPAVUBewGWAXkBZAFlATQBBAHuANYAiwAzAAcA1/+q/3P/Q/8X/+X+zf67/sD+jf5M/lT+cP5i/iz+T/5Y/iT+J/5n/mL+7/3s/R7+BP6x/aX9q/1U/S39Tf1m/QH9wfzn/Pz81vyq/Nn8sPxu/G/8q/yW/CH8I/wt/Cn89Pv8+wD8zfvY++/7MfwW/CT8U/yO/K38l/zs/Av9QP1L/Y39zf3N/ST+Qv6d/of+n/7m/iX/a/9A/7j/7v82AJMAKAG8AcwBsQJ1Ax0EcQQZBeYFFgafBtgGIAfgBswG2wZlBusFJwX/BG0EzQNHA8YCbQLaAQcC3wGmAYABuAEjAgwCUAJoAqUCtgL0AlkDQAM9Az4DnAOVA3wDlgOKA3YDYAOZA2wDKAMOAwsD8QKzAp4CZwI6AgMC6gHQAZ0BYgEtARsB5gDAAJwAfQA4AAkA+P/P/5v/Vv9B/wH/zP6d/oL+Xv4Z/iP+Df4I/v39Kf5G/i/+Wf5i/oX+fP6V/of+Sf44/hn+JP7X/aP9dP1Q/TL9CP0i/dv8svyu/ND8q/xd/G78P/wU/Oj78/u7+2j7fPuF+3/7SPt6+7b73vsN/D/8iPyK/Mv8D/1K/Ub9PP1t/Wf9Yv1A/Vb9N/35/Pb8DP0w/RP9Qf11/az9+f2D/lf/6v99AA8BFQIQA8UDhAQnBZEFqQVoBvQGiwbzBeEF2QX3BIcEQARKAygC1AHrAQwBYgBTAFEADQAZALMAvAC4ABQB0AEWAvMBVQK5AtwCpALOAtUCaQJhAooCigLtAc0BBgIIAhQCBgIpAvMBEgJsAqECqgJRAn0CpgLLAsACswK4AlACWwJ1AnACEALLAdcBkAFsATQBHQHEAHIAWAAUANr/dv9w/zT/5f6r/o7+r/6C/pj+fv6G/qT+wf4X/xD/Mv8k/17/oP+b/7D/mf+z/5b/qP+//5H/bv9Z/3z/Tv8m/yH/I/8S/wP/Hv8D/wX/MP9m/1L/Q/9v/3T/i/+e/6L/Yv9G/2P/Tf82/xv/+/7F/sb+4f7L/qH+if6C/m3+b/5h/kv+H/4C/v395/3l/dP92/3G/bP9y/3X/ef94v3w/d79z/3x/QP+/P3s/fL96P3s/Qz+H/4E/ur98f3z/QD+Cf4R/vn93/3y/RH+Mv4s/iX+If4e/j3+Xv5n/lH+PP5J/mf+if6e/pb+p/6u/sn+B/83/0P/KP9d/4L/oP/f/w8AIgALAFMAgACVAK4AtgDAAJIAsQDFAOIA1gCqAMcAzAAAASIBWwFIARcBYwGVAa8BmwG8AaABawGgAb8BqAFhAXoBdwFkAZQBvwG3AXkBswHVAdQB6AEPAhsC5AEZAiwCJAIkAi0CIwLhAfoB/gEAAvoB2AHHAbkB3AHiAfEB8AHDAccB8wERAgcCDAIJAu0B+AEcAhgC/wHfAbcBogGUAXoBSgEpAdgAjACUAJIAYQA3AEEADwDq/ywATQApAAcALAApACUAXgBmADUAAAAcADYANgA8AC8AIAAOADAAUwBPADwAMgBAADMANwBBADIAFgD5//n/5f/e/9z/wP+g/3v/fP+D/47/j/94/3r/c/99/5H/mf98/07/Sv8+/zH/Kv8Y/9v+r/7B/sT+vf6n/qX+j/6O/rX+tP7J/rb+uv7A/sb+8P7u/hX/9f7b/v7+B/8d/wH/Fv8N/wH/OP9A/07/QP9D/0//S/9r/3P/fv9z/1T/cP+R/47/i/+Y/5//jP+p/8//tP+y/8D/tf+g/6j/xf+u/6L/qP+l/7v/2v/1//z//f8PACgASABgAGUAbwBoAG0AjgCcAJYAfQB5AHMAcQCHAH8AaQBVAFwAZABmAGwAZgBbAFQAYQBmAGQAWgBNAEwAQwBKAEQASABGADIANQAxADgANQA8AEIAIgAnADcAPAA3ADYARQArACsASABMAEAALQA8ADgANgBPAE0APgAiADEAPgAwADMAKAAeAAYABwAPAP//+v/i/9T/yv/L/8z/t/+u/5z/lv+m/7P/t/+t/67/uP/C/9j/4P/a/9P/zP/d/+L/3//Z/87/1P/O/9n/2//R/9f/0f/Y/9f/4v/q/9//5v/m/+v/8f/5//7/8P/y//r//f8AAAIAAgD8//r/AwAGAAUAAwABAAUACAAPAA0ACAAGAAMACQAPABMADAAHAAoADAAOAAsACgADAAEABwANAAwABwAKAAoADAAUABoAFQAOABQAGQAZAB4AIQAUAAwAFQAeABQACQAPAAgAAgAHAA4AAgDz/wAABgACAAEACAAIAP//CAAPAA0ACAANABEADwANAAkACgAHAAgABwABAPr/9v/+//3/9v/x//D/8//1//z/+P/w//L/+f////z/+v/6//n/+P/6/wEA/v/1//f//v/9//n/AQAEAPn/+v8FAAgA/P/8/wAA+//5//r//P/0//P/9v/0//T/8P/y//P/8//x/+7/8v/w//L/8v/z//L/8f/3//n/+f/1//j//P/8//7///8BAPv//f////z/+//8//7/9v/5/////P/8//z/AAD8/wAABQACAAMAAgAEAAQABQAHAAUABgADAAIABQAEAAIAAAADAAIAAQADAAIAAgADAAUABAAEAAYABQAEAAYABQACAAIAAwAEAAAA/v8AAP///////wIA///5//7/AgABAP7/AAADAP//AgAGAAUAAAAAAAUAAwABAAEA///+//3/AAD///3////+//////8AAAAA//8CAAIAAgABAAIAAwABAAEAAAD///7///8CAAAAAAAAAAEAAgAAAAEAAAABAAAAAAACAAEAAQAAAAAA//8AAAIAAQABAAEAAgADAAMAAwABAAAAAAAAAP//AAD//////////wAA//////7////+//7/AAAAAAAA//////////8AAAAAAQD//wAAAAAAAAEAAAAAAP//AAABAAAAAAD///////8AAAAA//8AAAEAAAAAAAAAAAAAAAAAAAD+/wAAAQAAAAAA////////AQACAAAAAAAAAAAAAAAAAAAAAAAAAAEAAgABAAAA//8AAAAAAQACAAEAAQAAAP///////wAAAAAAAAAAAAAAAAAAAAABAAAAAAABAAAAAQAAAAEAAAAAAAMAAgACAAEAAQABAAEAAgAAAAAAAQAAAAAAAAAAAAEAAAABAAAA//////7/AQD/////AQAAAAEA//8BAAAAAAACAAEAAQD//wAAAQD///////8BAAAA//////7//f/9//7//f/9////////////AAD/////AAD//wAA////////AAD///////////////////7//v8AAAAA////////AAD//wAA//////////8AAAAAAAABAAAAAAD//wAAAQAAAP////////////8AAP//AAD/////AAAAAAAA/v////////8AAAAAAAD//wEAAQAAAAAAAQABAAAA//8AAAAA///+////AAD/////AAD//wAAAQACAAAAAAABAAEAAQAAAAEAAQABAAEAAQACAAAAAAAAAP//AAAAAAAA//8BAAEAAAABAAEAAQAAAAEAAgAAAAEAAQABAAAAAAABAAAAAAAAAAAAAAAAAAAAAAAAAAEAAAAAAAAAAAAAAAAAAQAAAAAAAQABAAAAAAABAAEA//8AAAAAAAAAAP//AAD+/wAAAAD//wAAAAABAAAAAQAAAAAAAAD//wAA//8AAAAA////////AAD///7//v8=\" type=\"audio/x-wav\" />\n",
              "                    Your browser does not support the audio element.\n",
              "                </audio>\n",
              "              "
            ]
          },
          "metadata": {}
        }
      ],
      "source": [
        "# ✅ অডিও ফাইল প্লে করা\n",
        "print(\"\\n🔊 Playing the uploaded audio...\")\n",
        "ipd.display(ipd.Audio(file_name_wav))"
      ]
    },
    {
      "cell_type": "code",
      "execution_count": 188,
      "metadata": {
        "colab": {
          "base_uri": "https://localhost:8080/",
          "height": 70
        },
        "id": "ftuIn4cz4Fyx",
        "outputId": "4132819c-e4c4-4e75-c3d4-eba417103902"
      },
      "outputs": [
        {
          "name": "stdout",
          "output_type": "stream",
          "text": [
            "\n",
            "Press Enter to exit...\n"
          ]
        },
        {
          "output_type": "execute_result",
          "data": {
            "text/plain": [
              "''"
            ],
            "application/vnd.google.colaboratory.intrinsic+json": {
              "type": "string"
            }
          },
          "metadata": {},
          "execution_count": 188
        }
      ],
      "source": [
        "# ✅ GUI বন্ধ করার জন্য ব্যবহারকারীর ইনপুট চাওয়া\n",
        "input(\"\\nPress Enter to exit...\")"
      ]
    }
  ],
  "metadata": {
    "colab": {
      "provenance": []
    },
    "kernelspec": {
      "display_name": "Python 3",
      "name": "python3"
    },
    "language_info": {
      "name": "python"
    }
  },
  "nbformat": 4,
  "nbformat_minor": 0
}